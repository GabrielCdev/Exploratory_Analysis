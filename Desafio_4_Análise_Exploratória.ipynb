{
  "cells": [
    {
      "cell_type": "markdown",
      "metadata": {
        "id": "view-in-github",
        "colab_type": "text"
      },
      "source": [
        "<a href=\"https://colab.research.google.com/github/GabrielCdev/Exploratory_Analysis/blob/main/Desafio_4_An%C3%A1lise_Explorat%C3%B3ria.ipynb\" target=\"_parent\"><img src=\"https://colab.research.google.com/assets/colab-badge.svg\" alt=\"Open In Colab\"/></a>"
      ]
    },
    {
      "cell_type": "markdown",
      "metadata": {
        "id": "5jnsioeF2gYQ"
      },
      "source": [
        "#Análise exploratória de dados com Pandas\n",
        "\n",
        "Escolher uma base de dados real e realizar as seguintes atividades:\n",
        "\n",
        "1 - Descrever a base e todos os atributos;\n",
        "\n",
        "2- Limpeza inicial dos dados\n",
        "- Remover linhas duplicadas;\n",
        "- Correção dos tipos de dados dos atributos;\n",
        "- Identificar e tratar dados ausentes (lembrar que podem existir dados ausentes que não sejam nulos, ex.: peso com valor 0, strings como \"-\", etc.) e tratar (exclusão, preencher com mediana ou, se série temporal, com o valor imediatamente anterior ou posterior);\n",
        "- Identificar outliers e, se necessário, tratá-los.\n",
        "- Lembrem-se que outliers podem ser reais, como um salário do presidente da empresa, ou fruto de erros, como uma pessoa com 250 anos. Outliers reais podem ser mantidos em fase de análise exploratória para compreensão dos dados, outliers provenientes de erros devem ser tratados, seja com exclusão ou preenchimento (similar ao tratamento de dados ausentes).\n",
        "\n",
        "3 - Análise univariada: analisar a distribuição de todos os atributos de acordo com o tipo de informação que eles trazem (atributos contínuos e categóricos são analisados de forma diferente).\n",
        "Exemplos de análises:\n",
        "- Identificar presença de outliers;\n",
        "- Desbalanceamento entre categorias (atributos categóricos);\n",
        "- Os dados seguem uma distribuição normal? (atributos contínuos);\n",
        "- Relação entre média, mediana, máximo, mínimo...\n",
        "\n",
        "4 - Análise bivariada:\n",
        "- Identificar quais atributos são mais correlacionados;\n",
        "- Escolher um atributo target, analisar os dados em função dele e destacar os insights que tiveram;\n",
        "- Durante esse processo vocês devem responder pelo menos 7 perguntas envolvendo:\n",
        "- 2 atributos categóricos;\n",
        "- 2 atributos contínuos;\n",
        "- 1 atributo contínuo x 1 atributo categórico.\n",
        "\n",
        "Postem o notebook e o conjunto de dados. A organização do código, legibilidade e documentação são quesitos avaliativos. Lembrem-se de destacar sempre o que vocês observaram nas tabelas e gráficos gerados.\n",
        "\n",
        "Basta uma pessoa postar o trabalho por equipe.\n",
        "\n",
        "\n",
        "Grupo 4\n",
        "\n",
        "....:::: Membros ::::....\n",
        "\n",
        "*   Ane Caroline Teixeira\n",
        "*   Danilo Lima Souza\n",
        "*   Gabriel Borges Calheiros\n",
        "*   Guilherme Cruz\n",
        "*   Izadora de Oliveira Machado Paim\n",
        "*   Laianne Protasio\n",
        "\n",
        "\n"
      ]
    },
    {
      "cell_type": "markdown",
      "metadata": {
        "id": "Cz1PxMrd55j0"
      },
      "source": [
        "##Objetivo"
      ]
    },
    {
      "cell_type": "markdown",
      "metadata": {
        "id": "9oIdSXzX5_mU"
      },
      "source": [
        "O objetivo central desta análise é compreender o padrão de lucro gerado pelas vendas de bicicletas e acessórios em geral a partir dos índices de país, grupo de idade, ano, categoria do produto, gênero do cliente, dentre outros."
      ]
    },
    {
      "cell_type": "markdown",
      "metadata": {
        "id": "PwcYdk6qQihx"
      },
      "source": [
        "## Importação de Dados"
      ]
    },
    {
      "cell_type": "code",
      "execution_count": null,
      "metadata": {
        "id": "MbMTmMm34uiu"
      },
      "outputs": [],
      "source": [
        "import matplotlib as mpl\n",
        "import matplotlib.pyplot as plt\n",
        "import numpy as np\n",
        "import pandas as pd\n",
        "import seaborn as sns"
      ]
    },
    {
      "cell_type": "code",
      "execution_count": null,
      "metadata": {
        "id": "BjprQxM65CO0"
      },
      "outputs": [],
      "source": [
        "bike_sales_df = pd.read_csv('https://raw.githubusercontent.com/GabrielCdev/Exploratory_Analysis/main/Dataset/Sales.csv')"
      ]
    },
    {
      "cell_type": "code",
      "execution_count": null,
      "metadata": {
        "id": "49XbQ6r058Vl"
      },
      "outputs": [],
      "source": [
        "backup = bike_sales_df.copy()"
      ]
    },
    {
      "cell_type": "code",
      "execution_count": null,
      "metadata": {
        "id": "HRwC8KZWff-G"
      },
      "outputs": [],
      "source": [
        "plt.style.use('seaborn-whitegrid')"
      ]
    },
    {
      "cell_type": "code",
      "execution_count": null,
      "metadata": {
        "id": "NBw7Q6affhjY"
      },
      "outputs": [],
      "source": [
        "mpl.rcParams[\"figure.figsize\"] = [12, 8]\n",
        "mpl.rcParams['figure.dpi'] = 80\n",
        "mpl.rcParams['savefig.dpi'] = 100\n",
        "\n",
        "mpl.rcParams['axes.labelsize'] = 'large'\n",
        "mpl.rcParams['legend.fontsize'] = 'large'\n",
        "mpl.rcParams['figure.titlesize'] = 'large'"
      ]
    },
    {
      "cell_type": "markdown",
      "metadata": {
        "id": "dL5BfYjMQlk5"
      },
      "source": [
        "## Análise Geral"
      ]
    },
    {
      "cell_type": "code",
      "execution_count": null,
      "metadata": {
        "id": "-o1-mFLQftEH",
        "colab": {
          "base_uri": "https://localhost:8080/",
          "height": 748
        },
        "outputId": "084bbd17-3d1c-4640-aa83-3d8f9af2159f"
      },
      "outputs": [
        {
          "output_type": "execute_result",
          "data": {
            "text/plain": [
              "              Date  Day     Month  Year  Customer_Age       Age_Group  \\\n",
              "0       2013-11-26   26  November  2013            19     Youth (<25)   \n",
              "1       2015-11-26   26  November  2015            19     Youth (<25)   \n",
              "2       2014-03-23   23     March  2014            49  Adults (35-64)   \n",
              "3       2016-03-23   23     March  2016            49  Adults (35-64)   \n",
              "4       2014-05-15   15       May  2014            47  Adults (35-64)   \n",
              "...            ...  ...       ...   ...           ...             ...   \n",
              "113031  2016-04-12   12     April  2016            41  Adults (35-64)   \n",
              "113032  2014-04-02    2     April  2014            18     Youth (<25)   \n",
              "113033  2016-04-02    2     April  2016            18     Youth (<25)   \n",
              "113034  2014-03-04    4     March  2014            37  Adults (35-64)   \n",
              "113035  2016-03-04    4     March  2016            37  Adults (35-64)   \n",
              "\n",
              "       Customer_Gender         Country             State Product_Category  \\\n",
              "0                    M          Canada  British Columbia      Accessories   \n",
              "1                    M          Canada  British Columbia      Accessories   \n",
              "2                    M       Australia   New South Wales      Accessories   \n",
              "3                    M       Australia   New South Wales      Accessories   \n",
              "4                    F       Australia   New South Wales      Accessories   \n",
              "...                ...             ...               ...              ...   \n",
              "113031               M  United Kingdom           England         Clothing   \n",
              "113032               M       Australia        Queensland         Clothing   \n",
              "113033               M       Australia        Queensland         Clothing   \n",
              "113034               F          France     Seine (Paris)         Clothing   \n",
              "113035               F          France     Seine (Paris)         Clothing   \n",
              "\n",
              "       Sub_Category              Product  Order_Quantity  Unit_Cost  \\\n",
              "0        Bike Racks  Hitch Rack - 4-Bike               8         45   \n",
              "1        Bike Racks  Hitch Rack - 4-Bike               8         45   \n",
              "2        Bike Racks  Hitch Rack - 4-Bike              23         45   \n",
              "3        Bike Racks  Hitch Rack - 4-Bike              20         45   \n",
              "4        Bike Racks  Hitch Rack - 4-Bike               4         45   \n",
              "...             ...                  ...             ...        ...   \n",
              "113031        Vests      Classic Vest, S               3         24   \n",
              "113032        Vests      Classic Vest, M              22         24   \n",
              "113033        Vests      Classic Vest, M              22         24   \n",
              "113034        Vests      Classic Vest, L              24         24   \n",
              "113035        Vests      Classic Vest, L              23         24   \n",
              "\n",
              "        Unit_Price  Profit  Cost  Revenue  \n",
              "0              120     590   360      950  \n",
              "1              120     590   360      950  \n",
              "2              120    1366  1035     2401  \n",
              "3              120    1188   900     2088  \n",
              "4              120     238   180      418  \n",
              "...            ...     ...   ...      ...  \n",
              "113031          64     112    72      184  \n",
              "113032          64     655   528     1183  \n",
              "113033          64     655   528     1183  \n",
              "113034          64     684   576     1260  \n",
              "113035          64     655   552     1207  \n",
              "\n",
              "[113036 rows x 18 columns]"
            ],
            "text/html": [
              "\n",
              "  <div id=\"df-73e441d1-30e3-4fa4-bd60-f7ab7c2b0830\">\n",
              "    <div class=\"colab-df-container\">\n",
              "      <div>\n",
              "<style scoped>\n",
              "    .dataframe tbody tr th:only-of-type {\n",
              "        vertical-align: middle;\n",
              "    }\n",
              "\n",
              "    .dataframe tbody tr th {\n",
              "        vertical-align: top;\n",
              "    }\n",
              "\n",
              "    .dataframe thead th {\n",
              "        text-align: right;\n",
              "    }\n",
              "</style>\n",
              "<table border=\"1\" class=\"dataframe\">\n",
              "  <thead>\n",
              "    <tr style=\"text-align: right;\">\n",
              "      <th></th>\n",
              "      <th>Date</th>\n",
              "      <th>Day</th>\n",
              "      <th>Month</th>\n",
              "      <th>Year</th>\n",
              "      <th>Customer_Age</th>\n",
              "      <th>Age_Group</th>\n",
              "      <th>Customer_Gender</th>\n",
              "      <th>Country</th>\n",
              "      <th>State</th>\n",
              "      <th>Product_Category</th>\n",
              "      <th>Sub_Category</th>\n",
              "      <th>Product</th>\n",
              "      <th>Order_Quantity</th>\n",
              "      <th>Unit_Cost</th>\n",
              "      <th>Unit_Price</th>\n",
              "      <th>Profit</th>\n",
              "      <th>Cost</th>\n",
              "      <th>Revenue</th>\n",
              "    </tr>\n",
              "  </thead>\n",
              "  <tbody>\n",
              "    <tr>\n",
              "      <th>0</th>\n",
              "      <td>2013-11-26</td>\n",
              "      <td>26</td>\n",
              "      <td>November</td>\n",
              "      <td>2013</td>\n",
              "      <td>19</td>\n",
              "      <td>Youth (&lt;25)</td>\n",
              "      <td>M</td>\n",
              "      <td>Canada</td>\n",
              "      <td>British Columbia</td>\n",
              "      <td>Accessories</td>\n",
              "      <td>Bike Racks</td>\n",
              "      <td>Hitch Rack - 4-Bike</td>\n",
              "      <td>8</td>\n",
              "      <td>45</td>\n",
              "      <td>120</td>\n",
              "      <td>590</td>\n",
              "      <td>360</td>\n",
              "      <td>950</td>\n",
              "    </tr>\n",
              "    <tr>\n",
              "      <th>1</th>\n",
              "      <td>2015-11-26</td>\n",
              "      <td>26</td>\n",
              "      <td>November</td>\n",
              "      <td>2015</td>\n",
              "      <td>19</td>\n",
              "      <td>Youth (&lt;25)</td>\n",
              "      <td>M</td>\n",
              "      <td>Canada</td>\n",
              "      <td>British Columbia</td>\n",
              "      <td>Accessories</td>\n",
              "      <td>Bike Racks</td>\n",
              "      <td>Hitch Rack - 4-Bike</td>\n",
              "      <td>8</td>\n",
              "      <td>45</td>\n",
              "      <td>120</td>\n",
              "      <td>590</td>\n",
              "      <td>360</td>\n",
              "      <td>950</td>\n",
              "    </tr>\n",
              "    <tr>\n",
              "      <th>2</th>\n",
              "      <td>2014-03-23</td>\n",
              "      <td>23</td>\n",
              "      <td>March</td>\n",
              "      <td>2014</td>\n",
              "      <td>49</td>\n",
              "      <td>Adults (35-64)</td>\n",
              "      <td>M</td>\n",
              "      <td>Australia</td>\n",
              "      <td>New South Wales</td>\n",
              "      <td>Accessories</td>\n",
              "      <td>Bike Racks</td>\n",
              "      <td>Hitch Rack - 4-Bike</td>\n",
              "      <td>23</td>\n",
              "      <td>45</td>\n",
              "      <td>120</td>\n",
              "      <td>1366</td>\n",
              "      <td>1035</td>\n",
              "      <td>2401</td>\n",
              "    </tr>\n",
              "    <tr>\n",
              "      <th>3</th>\n",
              "      <td>2016-03-23</td>\n",
              "      <td>23</td>\n",
              "      <td>March</td>\n",
              "      <td>2016</td>\n",
              "      <td>49</td>\n",
              "      <td>Adults (35-64)</td>\n",
              "      <td>M</td>\n",
              "      <td>Australia</td>\n",
              "      <td>New South Wales</td>\n",
              "      <td>Accessories</td>\n",
              "      <td>Bike Racks</td>\n",
              "      <td>Hitch Rack - 4-Bike</td>\n",
              "      <td>20</td>\n",
              "      <td>45</td>\n",
              "      <td>120</td>\n",
              "      <td>1188</td>\n",
              "      <td>900</td>\n",
              "      <td>2088</td>\n",
              "    </tr>\n",
              "    <tr>\n",
              "      <th>4</th>\n",
              "      <td>2014-05-15</td>\n",
              "      <td>15</td>\n",
              "      <td>May</td>\n",
              "      <td>2014</td>\n",
              "      <td>47</td>\n",
              "      <td>Adults (35-64)</td>\n",
              "      <td>F</td>\n",
              "      <td>Australia</td>\n",
              "      <td>New South Wales</td>\n",
              "      <td>Accessories</td>\n",
              "      <td>Bike Racks</td>\n",
              "      <td>Hitch Rack - 4-Bike</td>\n",
              "      <td>4</td>\n",
              "      <td>45</td>\n",
              "      <td>120</td>\n",
              "      <td>238</td>\n",
              "      <td>180</td>\n",
              "      <td>418</td>\n",
              "    </tr>\n",
              "    <tr>\n",
              "      <th>...</th>\n",
              "      <td>...</td>\n",
              "      <td>...</td>\n",
              "      <td>...</td>\n",
              "      <td>...</td>\n",
              "      <td>...</td>\n",
              "      <td>...</td>\n",
              "      <td>...</td>\n",
              "      <td>...</td>\n",
              "      <td>...</td>\n",
              "      <td>...</td>\n",
              "      <td>...</td>\n",
              "      <td>...</td>\n",
              "      <td>...</td>\n",
              "      <td>...</td>\n",
              "      <td>...</td>\n",
              "      <td>...</td>\n",
              "      <td>...</td>\n",
              "      <td>...</td>\n",
              "    </tr>\n",
              "    <tr>\n",
              "      <th>113031</th>\n",
              "      <td>2016-04-12</td>\n",
              "      <td>12</td>\n",
              "      <td>April</td>\n",
              "      <td>2016</td>\n",
              "      <td>41</td>\n",
              "      <td>Adults (35-64)</td>\n",
              "      <td>M</td>\n",
              "      <td>United Kingdom</td>\n",
              "      <td>England</td>\n",
              "      <td>Clothing</td>\n",
              "      <td>Vests</td>\n",
              "      <td>Classic Vest, S</td>\n",
              "      <td>3</td>\n",
              "      <td>24</td>\n",
              "      <td>64</td>\n",
              "      <td>112</td>\n",
              "      <td>72</td>\n",
              "      <td>184</td>\n",
              "    </tr>\n",
              "    <tr>\n",
              "      <th>113032</th>\n",
              "      <td>2014-04-02</td>\n",
              "      <td>2</td>\n",
              "      <td>April</td>\n",
              "      <td>2014</td>\n",
              "      <td>18</td>\n",
              "      <td>Youth (&lt;25)</td>\n",
              "      <td>M</td>\n",
              "      <td>Australia</td>\n",
              "      <td>Queensland</td>\n",
              "      <td>Clothing</td>\n",
              "      <td>Vests</td>\n",
              "      <td>Classic Vest, M</td>\n",
              "      <td>22</td>\n",
              "      <td>24</td>\n",
              "      <td>64</td>\n",
              "      <td>655</td>\n",
              "      <td>528</td>\n",
              "      <td>1183</td>\n",
              "    </tr>\n",
              "    <tr>\n",
              "      <th>113033</th>\n",
              "      <td>2016-04-02</td>\n",
              "      <td>2</td>\n",
              "      <td>April</td>\n",
              "      <td>2016</td>\n",
              "      <td>18</td>\n",
              "      <td>Youth (&lt;25)</td>\n",
              "      <td>M</td>\n",
              "      <td>Australia</td>\n",
              "      <td>Queensland</td>\n",
              "      <td>Clothing</td>\n",
              "      <td>Vests</td>\n",
              "      <td>Classic Vest, M</td>\n",
              "      <td>22</td>\n",
              "      <td>24</td>\n",
              "      <td>64</td>\n",
              "      <td>655</td>\n",
              "      <td>528</td>\n",
              "      <td>1183</td>\n",
              "    </tr>\n",
              "    <tr>\n",
              "      <th>113034</th>\n",
              "      <td>2014-03-04</td>\n",
              "      <td>4</td>\n",
              "      <td>March</td>\n",
              "      <td>2014</td>\n",
              "      <td>37</td>\n",
              "      <td>Adults (35-64)</td>\n",
              "      <td>F</td>\n",
              "      <td>France</td>\n",
              "      <td>Seine (Paris)</td>\n",
              "      <td>Clothing</td>\n",
              "      <td>Vests</td>\n",
              "      <td>Classic Vest, L</td>\n",
              "      <td>24</td>\n",
              "      <td>24</td>\n",
              "      <td>64</td>\n",
              "      <td>684</td>\n",
              "      <td>576</td>\n",
              "      <td>1260</td>\n",
              "    </tr>\n",
              "    <tr>\n",
              "      <th>113035</th>\n",
              "      <td>2016-03-04</td>\n",
              "      <td>4</td>\n",
              "      <td>March</td>\n",
              "      <td>2016</td>\n",
              "      <td>37</td>\n",
              "      <td>Adults (35-64)</td>\n",
              "      <td>F</td>\n",
              "      <td>France</td>\n",
              "      <td>Seine (Paris)</td>\n",
              "      <td>Clothing</td>\n",
              "      <td>Vests</td>\n",
              "      <td>Classic Vest, L</td>\n",
              "      <td>23</td>\n",
              "      <td>24</td>\n",
              "      <td>64</td>\n",
              "      <td>655</td>\n",
              "      <td>552</td>\n",
              "      <td>1207</td>\n",
              "    </tr>\n",
              "  </tbody>\n",
              "</table>\n",
              "<p>113036 rows × 18 columns</p>\n",
              "</div>\n",
              "      <button class=\"colab-df-convert\" onclick=\"convertToInteractive('df-73e441d1-30e3-4fa4-bd60-f7ab7c2b0830')\"\n",
              "              title=\"Convert this dataframe to an interactive table.\"\n",
              "              style=\"display:none;\">\n",
              "        \n",
              "  <svg xmlns=\"http://www.w3.org/2000/svg\" height=\"24px\"viewBox=\"0 0 24 24\"\n",
              "       width=\"24px\">\n",
              "    <path d=\"M0 0h24v24H0V0z\" fill=\"none\"/>\n",
              "    <path d=\"M18.56 5.44l.94 2.06.94-2.06 2.06-.94-2.06-.94-.94-2.06-.94 2.06-2.06.94zm-11 1L8.5 8.5l.94-2.06 2.06-.94-2.06-.94L8.5 2.5l-.94 2.06-2.06.94zm10 10l.94 2.06.94-2.06 2.06-.94-2.06-.94-.94-2.06-.94 2.06-2.06.94z\"/><path d=\"M17.41 7.96l-1.37-1.37c-.4-.4-.92-.59-1.43-.59-.52 0-1.04.2-1.43.59L10.3 9.45l-7.72 7.72c-.78.78-.78 2.05 0 2.83L4 21.41c.39.39.9.59 1.41.59.51 0 1.02-.2 1.41-.59l7.78-7.78 2.81-2.81c.8-.78.8-2.07 0-2.86zM5.41 20L4 18.59l7.72-7.72 1.47 1.35L5.41 20z\"/>\n",
              "  </svg>\n",
              "      </button>\n",
              "      \n",
              "  <style>\n",
              "    .colab-df-container {\n",
              "      display:flex;\n",
              "      flex-wrap:wrap;\n",
              "      gap: 12px;\n",
              "    }\n",
              "\n",
              "    .colab-df-convert {\n",
              "      background-color: #E8F0FE;\n",
              "      border: none;\n",
              "      border-radius: 50%;\n",
              "      cursor: pointer;\n",
              "      display: none;\n",
              "      fill: #1967D2;\n",
              "      height: 32px;\n",
              "      padding: 0 0 0 0;\n",
              "      width: 32px;\n",
              "    }\n",
              "\n",
              "    .colab-df-convert:hover {\n",
              "      background-color: #E2EBFA;\n",
              "      box-shadow: 0px 1px 2px rgba(60, 64, 67, 0.3), 0px 1px 3px 1px rgba(60, 64, 67, 0.15);\n",
              "      fill: #174EA6;\n",
              "    }\n",
              "\n",
              "    [theme=dark] .colab-df-convert {\n",
              "      background-color: #3B4455;\n",
              "      fill: #D2E3FC;\n",
              "    }\n",
              "\n",
              "    [theme=dark] .colab-df-convert:hover {\n",
              "      background-color: #434B5C;\n",
              "      box-shadow: 0px 1px 3px 1px rgba(0, 0, 0, 0.15);\n",
              "      filter: drop-shadow(0px 1px 2px rgba(0, 0, 0, 0.3));\n",
              "      fill: #FFFFFF;\n",
              "    }\n",
              "  </style>\n",
              "\n",
              "      <script>\n",
              "        const buttonEl =\n",
              "          document.querySelector('#df-73e441d1-30e3-4fa4-bd60-f7ab7c2b0830 button.colab-df-convert');\n",
              "        buttonEl.style.display =\n",
              "          google.colab.kernel.accessAllowed ? 'block' : 'none';\n",
              "\n",
              "        async function convertToInteractive(key) {\n",
              "          const element = document.querySelector('#df-73e441d1-30e3-4fa4-bd60-f7ab7c2b0830');\n",
              "          const dataTable =\n",
              "            await google.colab.kernel.invokeFunction('convertToInteractive',\n",
              "                                                     [key], {});\n",
              "          if (!dataTable) return;\n",
              "\n",
              "          const docLinkHtml = 'Like what you see? Visit the ' +\n",
              "            '<a target=\"_blank\" href=https://colab.research.google.com/notebooks/data_table.ipynb>data table notebook</a>'\n",
              "            + ' to learn more about interactive tables.';\n",
              "          element.innerHTML = '';\n",
              "          dataTable['output_type'] = 'display_data';\n",
              "          await google.colab.output.renderOutput(dataTable, element);\n",
              "          const docLink = document.createElement('div');\n",
              "          docLink.innerHTML = docLinkHtml;\n",
              "          element.appendChild(docLink);\n",
              "        }\n",
              "      </script>\n",
              "    </div>\n",
              "  </div>\n",
              "  "
            ]
          },
          "metadata": {},
          "execution_count": 6
        }
      ],
      "source": [
        "bike_sales_df"
      ]
    },
    {
      "cell_type": "code",
      "execution_count": null,
      "metadata": {
        "id": "xqtSBZ4D5I10",
        "colab": {
          "base_uri": "https://localhost:8080/",
          "height": 444
        },
        "outputId": "db14312e-036d-4356-ecac-ae5a03cc0fc8"
      },
      "outputs": [
        {
          "output_type": "execute_result",
          "data": {
            "text/plain": [
              "         Date  Day     Month  Year  Customer_Age       Age_Group  \\\n",
              "0  2013-11-26   26  November  2013            19     Youth (<25)   \n",
              "1  2015-11-26   26  November  2015            19     Youth (<25)   \n",
              "2  2014-03-23   23     March  2014            49  Adults (35-64)   \n",
              "3  2016-03-23   23     March  2016            49  Adults (35-64)   \n",
              "4  2014-05-15   15       May  2014            47  Adults (35-64)   \n",
              "\n",
              "  Customer_Gender    Country             State Product_Category Sub_Category  \\\n",
              "0               M     Canada  British Columbia      Accessories   Bike Racks   \n",
              "1               M     Canada  British Columbia      Accessories   Bike Racks   \n",
              "2               M  Australia   New South Wales      Accessories   Bike Racks   \n",
              "3               M  Australia   New South Wales      Accessories   Bike Racks   \n",
              "4               F  Australia   New South Wales      Accessories   Bike Racks   \n",
              "\n",
              "               Product  Order_Quantity  Unit_Cost  Unit_Price  Profit  Cost  \\\n",
              "0  Hitch Rack - 4-Bike               8         45         120     590   360   \n",
              "1  Hitch Rack - 4-Bike               8         45         120     590   360   \n",
              "2  Hitch Rack - 4-Bike              23         45         120    1366  1035   \n",
              "3  Hitch Rack - 4-Bike              20         45         120    1188   900   \n",
              "4  Hitch Rack - 4-Bike               4         45         120     238   180   \n",
              "\n",
              "   Revenue  \n",
              "0      950  \n",
              "1      950  \n",
              "2     2401  \n",
              "3     2088  \n",
              "4      418  "
            ],
            "text/html": [
              "\n",
              "  <div id=\"df-df32ac2f-ce10-49fa-98d5-21615e8d5e07\">\n",
              "    <div class=\"colab-df-container\">\n",
              "      <div>\n",
              "<style scoped>\n",
              "    .dataframe tbody tr th:only-of-type {\n",
              "        vertical-align: middle;\n",
              "    }\n",
              "\n",
              "    .dataframe tbody tr th {\n",
              "        vertical-align: top;\n",
              "    }\n",
              "\n",
              "    .dataframe thead th {\n",
              "        text-align: right;\n",
              "    }\n",
              "</style>\n",
              "<table border=\"1\" class=\"dataframe\">\n",
              "  <thead>\n",
              "    <tr style=\"text-align: right;\">\n",
              "      <th></th>\n",
              "      <th>Date</th>\n",
              "      <th>Day</th>\n",
              "      <th>Month</th>\n",
              "      <th>Year</th>\n",
              "      <th>Customer_Age</th>\n",
              "      <th>Age_Group</th>\n",
              "      <th>Customer_Gender</th>\n",
              "      <th>Country</th>\n",
              "      <th>State</th>\n",
              "      <th>Product_Category</th>\n",
              "      <th>Sub_Category</th>\n",
              "      <th>Product</th>\n",
              "      <th>Order_Quantity</th>\n",
              "      <th>Unit_Cost</th>\n",
              "      <th>Unit_Price</th>\n",
              "      <th>Profit</th>\n",
              "      <th>Cost</th>\n",
              "      <th>Revenue</th>\n",
              "    </tr>\n",
              "  </thead>\n",
              "  <tbody>\n",
              "    <tr>\n",
              "      <th>0</th>\n",
              "      <td>2013-11-26</td>\n",
              "      <td>26</td>\n",
              "      <td>November</td>\n",
              "      <td>2013</td>\n",
              "      <td>19</td>\n",
              "      <td>Youth (&lt;25)</td>\n",
              "      <td>M</td>\n",
              "      <td>Canada</td>\n",
              "      <td>British Columbia</td>\n",
              "      <td>Accessories</td>\n",
              "      <td>Bike Racks</td>\n",
              "      <td>Hitch Rack - 4-Bike</td>\n",
              "      <td>8</td>\n",
              "      <td>45</td>\n",
              "      <td>120</td>\n",
              "      <td>590</td>\n",
              "      <td>360</td>\n",
              "      <td>950</td>\n",
              "    </tr>\n",
              "    <tr>\n",
              "      <th>1</th>\n",
              "      <td>2015-11-26</td>\n",
              "      <td>26</td>\n",
              "      <td>November</td>\n",
              "      <td>2015</td>\n",
              "      <td>19</td>\n",
              "      <td>Youth (&lt;25)</td>\n",
              "      <td>M</td>\n",
              "      <td>Canada</td>\n",
              "      <td>British Columbia</td>\n",
              "      <td>Accessories</td>\n",
              "      <td>Bike Racks</td>\n",
              "      <td>Hitch Rack - 4-Bike</td>\n",
              "      <td>8</td>\n",
              "      <td>45</td>\n",
              "      <td>120</td>\n",
              "      <td>590</td>\n",
              "      <td>360</td>\n",
              "      <td>950</td>\n",
              "    </tr>\n",
              "    <tr>\n",
              "      <th>2</th>\n",
              "      <td>2014-03-23</td>\n",
              "      <td>23</td>\n",
              "      <td>March</td>\n",
              "      <td>2014</td>\n",
              "      <td>49</td>\n",
              "      <td>Adults (35-64)</td>\n",
              "      <td>M</td>\n",
              "      <td>Australia</td>\n",
              "      <td>New South Wales</td>\n",
              "      <td>Accessories</td>\n",
              "      <td>Bike Racks</td>\n",
              "      <td>Hitch Rack - 4-Bike</td>\n",
              "      <td>23</td>\n",
              "      <td>45</td>\n",
              "      <td>120</td>\n",
              "      <td>1366</td>\n",
              "      <td>1035</td>\n",
              "      <td>2401</td>\n",
              "    </tr>\n",
              "    <tr>\n",
              "      <th>3</th>\n",
              "      <td>2016-03-23</td>\n",
              "      <td>23</td>\n",
              "      <td>March</td>\n",
              "      <td>2016</td>\n",
              "      <td>49</td>\n",
              "      <td>Adults (35-64)</td>\n",
              "      <td>M</td>\n",
              "      <td>Australia</td>\n",
              "      <td>New South Wales</td>\n",
              "      <td>Accessories</td>\n",
              "      <td>Bike Racks</td>\n",
              "      <td>Hitch Rack - 4-Bike</td>\n",
              "      <td>20</td>\n",
              "      <td>45</td>\n",
              "      <td>120</td>\n",
              "      <td>1188</td>\n",
              "      <td>900</td>\n",
              "      <td>2088</td>\n",
              "    </tr>\n",
              "    <tr>\n",
              "      <th>4</th>\n",
              "      <td>2014-05-15</td>\n",
              "      <td>15</td>\n",
              "      <td>May</td>\n",
              "      <td>2014</td>\n",
              "      <td>47</td>\n",
              "      <td>Adults (35-64)</td>\n",
              "      <td>F</td>\n",
              "      <td>Australia</td>\n",
              "      <td>New South Wales</td>\n",
              "      <td>Accessories</td>\n",
              "      <td>Bike Racks</td>\n",
              "      <td>Hitch Rack - 4-Bike</td>\n",
              "      <td>4</td>\n",
              "      <td>45</td>\n",
              "      <td>120</td>\n",
              "      <td>238</td>\n",
              "      <td>180</td>\n",
              "      <td>418</td>\n",
              "    </tr>\n",
              "  </tbody>\n",
              "</table>\n",
              "</div>\n",
              "      <button class=\"colab-df-convert\" onclick=\"convertToInteractive('df-df32ac2f-ce10-49fa-98d5-21615e8d5e07')\"\n",
              "              title=\"Convert this dataframe to an interactive table.\"\n",
              "              style=\"display:none;\">\n",
              "        \n",
              "  <svg xmlns=\"http://www.w3.org/2000/svg\" height=\"24px\"viewBox=\"0 0 24 24\"\n",
              "       width=\"24px\">\n",
              "    <path d=\"M0 0h24v24H0V0z\" fill=\"none\"/>\n",
              "    <path d=\"M18.56 5.44l.94 2.06.94-2.06 2.06-.94-2.06-.94-.94-2.06-.94 2.06-2.06.94zm-11 1L8.5 8.5l.94-2.06 2.06-.94-2.06-.94L8.5 2.5l-.94 2.06-2.06.94zm10 10l.94 2.06.94-2.06 2.06-.94-2.06-.94-.94-2.06-.94 2.06-2.06.94z\"/><path d=\"M17.41 7.96l-1.37-1.37c-.4-.4-.92-.59-1.43-.59-.52 0-1.04.2-1.43.59L10.3 9.45l-7.72 7.72c-.78.78-.78 2.05 0 2.83L4 21.41c.39.39.9.59 1.41.59.51 0 1.02-.2 1.41-.59l7.78-7.78 2.81-2.81c.8-.78.8-2.07 0-2.86zM5.41 20L4 18.59l7.72-7.72 1.47 1.35L5.41 20z\"/>\n",
              "  </svg>\n",
              "      </button>\n",
              "      \n",
              "  <style>\n",
              "    .colab-df-container {\n",
              "      display:flex;\n",
              "      flex-wrap:wrap;\n",
              "      gap: 12px;\n",
              "    }\n",
              "\n",
              "    .colab-df-convert {\n",
              "      background-color: #E8F0FE;\n",
              "      border: none;\n",
              "      border-radius: 50%;\n",
              "      cursor: pointer;\n",
              "      display: none;\n",
              "      fill: #1967D2;\n",
              "      height: 32px;\n",
              "      padding: 0 0 0 0;\n",
              "      width: 32px;\n",
              "    }\n",
              "\n",
              "    .colab-df-convert:hover {\n",
              "      background-color: #E2EBFA;\n",
              "      box-shadow: 0px 1px 2px rgba(60, 64, 67, 0.3), 0px 1px 3px 1px rgba(60, 64, 67, 0.15);\n",
              "      fill: #174EA6;\n",
              "    }\n",
              "\n",
              "    [theme=dark] .colab-df-convert {\n",
              "      background-color: #3B4455;\n",
              "      fill: #D2E3FC;\n",
              "    }\n",
              "\n",
              "    [theme=dark] .colab-df-convert:hover {\n",
              "      background-color: #434B5C;\n",
              "      box-shadow: 0px 1px 3px 1px rgba(0, 0, 0, 0.15);\n",
              "      filter: drop-shadow(0px 1px 2px rgba(0, 0, 0, 0.3));\n",
              "      fill: #FFFFFF;\n",
              "    }\n",
              "  </style>\n",
              "\n",
              "      <script>\n",
              "        const buttonEl =\n",
              "          document.querySelector('#df-df32ac2f-ce10-49fa-98d5-21615e8d5e07 button.colab-df-convert');\n",
              "        buttonEl.style.display =\n",
              "          google.colab.kernel.accessAllowed ? 'block' : 'none';\n",
              "\n",
              "        async function convertToInteractive(key) {\n",
              "          const element = document.querySelector('#df-df32ac2f-ce10-49fa-98d5-21615e8d5e07');\n",
              "          const dataTable =\n",
              "            await google.colab.kernel.invokeFunction('convertToInteractive',\n",
              "                                                     [key], {});\n",
              "          if (!dataTable) return;\n",
              "\n",
              "          const docLinkHtml = 'Like what you see? Visit the ' +\n",
              "            '<a target=\"_blank\" href=https://colab.research.google.com/notebooks/data_table.ipynb>data table notebook</a>'\n",
              "            + ' to learn more about interactive tables.';\n",
              "          element.innerHTML = '';\n",
              "          dataTable['output_type'] = 'display_data';\n",
              "          await google.colab.output.renderOutput(dataTable, element);\n",
              "          const docLink = document.createElement('div');\n",
              "          docLink.innerHTML = docLinkHtml;\n",
              "          element.appendChild(docLink);\n",
              "        }\n",
              "      </script>\n",
              "    </div>\n",
              "  </div>\n",
              "  "
            ]
          },
          "metadata": {},
          "execution_count": 7
        }
      ],
      "source": [
        "bike_sales_df.head()"
      ]
    },
    {
      "cell_type": "code",
      "execution_count": null,
      "metadata": {
        "id": "omVvVrhL7MRL",
        "colab": {
          "base_uri": "https://localhost:8080/",
          "height": 357
        },
        "outputId": "231c97f4-ae0f-44fa-e00d-6fcf680f23fc"
      },
      "outputs": [
        {
          "output_type": "execute_result",
          "data": {
            "text/plain": [
              "              Date  Day  Month  Year  Customer_Age       Age_Group  \\\n",
              "113031  2016-04-12   12  April  2016            41  Adults (35-64)   \n",
              "113032  2014-04-02    2  April  2014            18     Youth (<25)   \n",
              "113033  2016-04-02    2  April  2016            18     Youth (<25)   \n",
              "113034  2014-03-04    4  March  2014            37  Adults (35-64)   \n",
              "113035  2016-03-04    4  March  2016            37  Adults (35-64)   \n",
              "\n",
              "       Customer_Gender         Country          State Product_Category  \\\n",
              "113031               M  United Kingdom        England         Clothing   \n",
              "113032               M       Australia     Queensland         Clothing   \n",
              "113033               M       Australia     Queensland         Clothing   \n",
              "113034               F          France  Seine (Paris)         Clothing   \n",
              "113035               F          France  Seine (Paris)         Clothing   \n",
              "\n",
              "       Sub_Category          Product  Order_Quantity  Unit_Cost  Unit_Price  \\\n",
              "113031        Vests  Classic Vest, S               3         24          64   \n",
              "113032        Vests  Classic Vest, M              22         24          64   \n",
              "113033        Vests  Classic Vest, M              22         24          64   \n",
              "113034        Vests  Classic Vest, L              24         24          64   \n",
              "113035        Vests  Classic Vest, L              23         24          64   \n",
              "\n",
              "        Profit  Cost  Revenue  \n",
              "113031     112    72      184  \n",
              "113032     655   528     1183  \n",
              "113033     655   528     1183  \n",
              "113034     684   576     1260  \n",
              "113035     655   552     1207  "
            ],
            "text/html": [
              "\n",
              "  <div id=\"df-4e10dcc9-2b72-47d7-af21-f3100e012998\">\n",
              "    <div class=\"colab-df-container\">\n",
              "      <div>\n",
              "<style scoped>\n",
              "    .dataframe tbody tr th:only-of-type {\n",
              "        vertical-align: middle;\n",
              "    }\n",
              "\n",
              "    .dataframe tbody tr th {\n",
              "        vertical-align: top;\n",
              "    }\n",
              "\n",
              "    .dataframe thead th {\n",
              "        text-align: right;\n",
              "    }\n",
              "</style>\n",
              "<table border=\"1\" class=\"dataframe\">\n",
              "  <thead>\n",
              "    <tr style=\"text-align: right;\">\n",
              "      <th></th>\n",
              "      <th>Date</th>\n",
              "      <th>Day</th>\n",
              "      <th>Month</th>\n",
              "      <th>Year</th>\n",
              "      <th>Customer_Age</th>\n",
              "      <th>Age_Group</th>\n",
              "      <th>Customer_Gender</th>\n",
              "      <th>Country</th>\n",
              "      <th>State</th>\n",
              "      <th>Product_Category</th>\n",
              "      <th>Sub_Category</th>\n",
              "      <th>Product</th>\n",
              "      <th>Order_Quantity</th>\n",
              "      <th>Unit_Cost</th>\n",
              "      <th>Unit_Price</th>\n",
              "      <th>Profit</th>\n",
              "      <th>Cost</th>\n",
              "      <th>Revenue</th>\n",
              "    </tr>\n",
              "  </thead>\n",
              "  <tbody>\n",
              "    <tr>\n",
              "      <th>113031</th>\n",
              "      <td>2016-04-12</td>\n",
              "      <td>12</td>\n",
              "      <td>April</td>\n",
              "      <td>2016</td>\n",
              "      <td>41</td>\n",
              "      <td>Adults (35-64)</td>\n",
              "      <td>M</td>\n",
              "      <td>United Kingdom</td>\n",
              "      <td>England</td>\n",
              "      <td>Clothing</td>\n",
              "      <td>Vests</td>\n",
              "      <td>Classic Vest, S</td>\n",
              "      <td>3</td>\n",
              "      <td>24</td>\n",
              "      <td>64</td>\n",
              "      <td>112</td>\n",
              "      <td>72</td>\n",
              "      <td>184</td>\n",
              "    </tr>\n",
              "    <tr>\n",
              "      <th>113032</th>\n",
              "      <td>2014-04-02</td>\n",
              "      <td>2</td>\n",
              "      <td>April</td>\n",
              "      <td>2014</td>\n",
              "      <td>18</td>\n",
              "      <td>Youth (&lt;25)</td>\n",
              "      <td>M</td>\n",
              "      <td>Australia</td>\n",
              "      <td>Queensland</td>\n",
              "      <td>Clothing</td>\n",
              "      <td>Vests</td>\n",
              "      <td>Classic Vest, M</td>\n",
              "      <td>22</td>\n",
              "      <td>24</td>\n",
              "      <td>64</td>\n",
              "      <td>655</td>\n",
              "      <td>528</td>\n",
              "      <td>1183</td>\n",
              "    </tr>\n",
              "    <tr>\n",
              "      <th>113033</th>\n",
              "      <td>2016-04-02</td>\n",
              "      <td>2</td>\n",
              "      <td>April</td>\n",
              "      <td>2016</td>\n",
              "      <td>18</td>\n",
              "      <td>Youth (&lt;25)</td>\n",
              "      <td>M</td>\n",
              "      <td>Australia</td>\n",
              "      <td>Queensland</td>\n",
              "      <td>Clothing</td>\n",
              "      <td>Vests</td>\n",
              "      <td>Classic Vest, M</td>\n",
              "      <td>22</td>\n",
              "      <td>24</td>\n",
              "      <td>64</td>\n",
              "      <td>655</td>\n",
              "      <td>528</td>\n",
              "      <td>1183</td>\n",
              "    </tr>\n",
              "    <tr>\n",
              "      <th>113034</th>\n",
              "      <td>2014-03-04</td>\n",
              "      <td>4</td>\n",
              "      <td>March</td>\n",
              "      <td>2014</td>\n",
              "      <td>37</td>\n",
              "      <td>Adults (35-64)</td>\n",
              "      <td>F</td>\n",
              "      <td>France</td>\n",
              "      <td>Seine (Paris)</td>\n",
              "      <td>Clothing</td>\n",
              "      <td>Vests</td>\n",
              "      <td>Classic Vest, L</td>\n",
              "      <td>24</td>\n",
              "      <td>24</td>\n",
              "      <td>64</td>\n",
              "      <td>684</td>\n",
              "      <td>576</td>\n",
              "      <td>1260</td>\n",
              "    </tr>\n",
              "    <tr>\n",
              "      <th>113035</th>\n",
              "      <td>2016-03-04</td>\n",
              "      <td>4</td>\n",
              "      <td>March</td>\n",
              "      <td>2016</td>\n",
              "      <td>37</td>\n",
              "      <td>Adults (35-64)</td>\n",
              "      <td>F</td>\n",
              "      <td>France</td>\n",
              "      <td>Seine (Paris)</td>\n",
              "      <td>Clothing</td>\n",
              "      <td>Vests</td>\n",
              "      <td>Classic Vest, L</td>\n",
              "      <td>23</td>\n",
              "      <td>24</td>\n",
              "      <td>64</td>\n",
              "      <td>655</td>\n",
              "      <td>552</td>\n",
              "      <td>1207</td>\n",
              "    </tr>\n",
              "  </tbody>\n",
              "</table>\n",
              "</div>\n",
              "      <button class=\"colab-df-convert\" onclick=\"convertToInteractive('df-4e10dcc9-2b72-47d7-af21-f3100e012998')\"\n",
              "              title=\"Convert this dataframe to an interactive table.\"\n",
              "              style=\"display:none;\">\n",
              "        \n",
              "  <svg xmlns=\"http://www.w3.org/2000/svg\" height=\"24px\"viewBox=\"0 0 24 24\"\n",
              "       width=\"24px\">\n",
              "    <path d=\"M0 0h24v24H0V0z\" fill=\"none\"/>\n",
              "    <path d=\"M18.56 5.44l.94 2.06.94-2.06 2.06-.94-2.06-.94-.94-2.06-.94 2.06-2.06.94zm-11 1L8.5 8.5l.94-2.06 2.06-.94-2.06-.94L8.5 2.5l-.94 2.06-2.06.94zm10 10l.94 2.06.94-2.06 2.06-.94-2.06-.94-.94-2.06-.94 2.06-2.06.94z\"/><path d=\"M17.41 7.96l-1.37-1.37c-.4-.4-.92-.59-1.43-.59-.52 0-1.04.2-1.43.59L10.3 9.45l-7.72 7.72c-.78.78-.78 2.05 0 2.83L4 21.41c.39.39.9.59 1.41.59.51 0 1.02-.2 1.41-.59l7.78-7.78 2.81-2.81c.8-.78.8-2.07 0-2.86zM5.41 20L4 18.59l7.72-7.72 1.47 1.35L5.41 20z\"/>\n",
              "  </svg>\n",
              "      </button>\n",
              "      \n",
              "  <style>\n",
              "    .colab-df-container {\n",
              "      display:flex;\n",
              "      flex-wrap:wrap;\n",
              "      gap: 12px;\n",
              "    }\n",
              "\n",
              "    .colab-df-convert {\n",
              "      background-color: #E8F0FE;\n",
              "      border: none;\n",
              "      border-radius: 50%;\n",
              "      cursor: pointer;\n",
              "      display: none;\n",
              "      fill: #1967D2;\n",
              "      height: 32px;\n",
              "      padding: 0 0 0 0;\n",
              "      width: 32px;\n",
              "    }\n",
              "\n",
              "    .colab-df-convert:hover {\n",
              "      background-color: #E2EBFA;\n",
              "      box-shadow: 0px 1px 2px rgba(60, 64, 67, 0.3), 0px 1px 3px 1px rgba(60, 64, 67, 0.15);\n",
              "      fill: #174EA6;\n",
              "    }\n",
              "\n",
              "    [theme=dark] .colab-df-convert {\n",
              "      background-color: #3B4455;\n",
              "      fill: #D2E3FC;\n",
              "    }\n",
              "\n",
              "    [theme=dark] .colab-df-convert:hover {\n",
              "      background-color: #434B5C;\n",
              "      box-shadow: 0px 1px 3px 1px rgba(0, 0, 0, 0.15);\n",
              "      filter: drop-shadow(0px 1px 2px rgba(0, 0, 0, 0.3));\n",
              "      fill: #FFFFFF;\n",
              "    }\n",
              "  </style>\n",
              "\n",
              "      <script>\n",
              "        const buttonEl =\n",
              "          document.querySelector('#df-4e10dcc9-2b72-47d7-af21-f3100e012998 button.colab-df-convert');\n",
              "        buttonEl.style.display =\n",
              "          google.colab.kernel.accessAllowed ? 'block' : 'none';\n",
              "\n",
              "        async function convertToInteractive(key) {\n",
              "          const element = document.querySelector('#df-4e10dcc9-2b72-47d7-af21-f3100e012998');\n",
              "          const dataTable =\n",
              "            await google.colab.kernel.invokeFunction('convertToInteractive',\n",
              "                                                     [key], {});\n",
              "          if (!dataTable) return;\n",
              "\n",
              "          const docLinkHtml = 'Like what you see? Visit the ' +\n",
              "            '<a target=\"_blank\" href=https://colab.research.google.com/notebooks/data_table.ipynb>data table notebook</a>'\n",
              "            + ' to learn more about interactive tables.';\n",
              "          element.innerHTML = '';\n",
              "          dataTable['output_type'] = 'display_data';\n",
              "          await google.colab.output.renderOutput(dataTable, element);\n",
              "          const docLink = document.createElement('div');\n",
              "          docLink.innerHTML = docLinkHtml;\n",
              "          element.appendChild(docLink);\n",
              "        }\n",
              "      </script>\n",
              "    </div>\n",
              "  </div>\n",
              "  "
            ]
          },
          "metadata": {},
          "execution_count": 8
        }
      ],
      "source": [
        "bike_sales_df.tail()"
      ]
    },
    {
      "cell_type": "code",
      "execution_count": null,
      "metadata": {
        "id": "zzVA5dTFtVJw",
        "colab": {
          "base_uri": "https://localhost:8080/"
        },
        "outputId": "e41d2c64-c744-4849-814e-2bbe1b48f2b6"
      },
      "outputs": [
        {
          "output_type": "execute_result",
          "data": {
            "text/plain": [
              "False"
            ]
          },
          "metadata": {},
          "execution_count": 9
        }
      ],
      "source": [
        "bike_sales_df.isna().values.any()"
      ]
    },
    {
      "cell_type": "code",
      "execution_count": null,
      "metadata": {
        "id": "twq5J0075smx",
        "colab": {
          "base_uri": "https://localhost:8080/"
        },
        "outputId": "2f3f9e27-fa7d-4692-f9a2-b93afe676908"
      },
      "outputs": [
        {
          "output_type": "stream",
          "name": "stdout",
          "text": [
            "<class 'pandas.core.frame.DataFrame'>\n",
            "RangeIndex: 113036 entries, 0 to 113035\n",
            "Data columns (total 18 columns):\n",
            " #   Column            Non-Null Count   Dtype \n",
            "---  ------            --------------   ----- \n",
            " 0   Date              113036 non-null  object\n",
            " 1   Day               113036 non-null  int64 \n",
            " 2   Month             113036 non-null  object\n",
            " 3   Year              113036 non-null  int64 \n",
            " 4   Customer_Age      113036 non-null  int64 \n",
            " 5   Age_Group         113036 non-null  object\n",
            " 6   Customer_Gender   113036 non-null  object\n",
            " 7   Country           113036 non-null  object\n",
            " 8   State             113036 non-null  object\n",
            " 9   Product_Category  113036 non-null  object\n",
            " 10  Sub_Category      113036 non-null  object\n",
            " 11  Product           113036 non-null  object\n",
            " 12  Order_Quantity    113036 non-null  int64 \n",
            " 13  Unit_Cost         113036 non-null  int64 \n",
            " 14  Unit_Price        113036 non-null  int64 \n",
            " 15  Profit            113036 non-null  int64 \n",
            " 16  Cost              113036 non-null  int64 \n",
            " 17  Revenue           113036 non-null  int64 \n",
            "dtypes: int64(9), object(9)\n",
            "memory usage: 15.5+ MB\n"
          ]
        }
      ],
      "source": [
        "bike_sales_df.info()"
      ]
    },
    {
      "cell_type": "markdown",
      "metadata": {
        "id": "tsrco7Vkt5X9"
      },
      "source": [
        "Até aqui podemos tirar algumas informações:\n",
        "\n",
        "1. O dataset possui 18 colunas e 113036 linhas;\n",
        "2. Os dados estão indexados de forma sequencial de 0 a 113035;\n",
        "3. Não existem dados nulos (**o que não significa que não existam dados ausentes**);\n",
        "4. Durante a análise minusciosa dos dados foi percebido que há uma coluna ausente, referente à depreciação, culminando no resultado da coluna \"profit\" (lucro).\n",
        "5. O atributo \"profit\" (lucro), principal objeto de análise deste trabalho, é int64;\n",
        "6. Os atributos \"Age_Group\" (Grupo de Idade), \"Customer_Gender\" (Gênero do Cliente), \"Country\" (País), \"State\" (Estado), \"Product_Category\" (Categoria do Produto) e \"Sub_Category\" (Subcategoria) são do tipo `object`, mas seu conteúdo é **category**;\n",
        "7. Similar aos atributos listados no item 6, as colunas \"Day\" (Dia) e \"Year\" (Ano) também são classificados como **category** ao invés de `object`;\n",
        "8. Os atributos \"Unit_Cost\" (Custo Unitário), \"Unit_Price\" (Preço Unitário), \"Profit\" (Lucro), \"Cost\" (Custo) e \"Revenue\" (Receita) são do tipo 'int64', mas seu conteúdo é **float**.\n",
        "9. A maioria das informações disponíveis são relacionadas ao consumo de produtos de ciclismo.\n",
        "\n"
      ]
    },
    {
      "cell_type": "markdown",
      "metadata": {
        "id": "SeCDRQG3pqPN"
      },
      "source": [
        "Os dados da tabela representam:\n",
        "\n",
        "1. Date: Data em que a venda ocorreu;\n",
        "2. Day: Dia em que a venda ocorreu;\n",
        "3. Month: Mês em que a venda ocorreu;\n",
        "4. Year: Ano em que a venda ocorreu;\n",
        "5. Customer_Age: Idade do cliente;\n",
        "6. Age_Group: Idade do cliente agrupada em categorias (4);\n",
        "7. Customer_Gender: Gênero do cliente;\n",
        "8. Country: País onde ocorreu a venda;\n",
        "9. State: Estado onde ocorreu a venda;\n",
        "10. Product_Category: Categoria do produto (bicicleta, acessórios, roupas etc);\n",
        "11. Sub_Category: Descrição mais detalhada do produto (Suporte para bicicletas, coletes refletivos etc);\n",
        "12. Product: Nome específico do produto;\n",
        "13. Order_Quantity: Quantidade total da encomenda;\n",
        "14. Unit_Cost: Custo unitário de cada produto;\n",
        "15. Unit_Price: Preço unitário de cada produto;\n",
        "16. Profit: Lucro total obtido nos produtos vendidos;\n",
        "17. Cost: Custo total do número do pedido do produto;\n",
        "18. Revenue: Receita total do pedido individual."
      ]
    },
    {
      "cell_type": "code",
      "execution_count": null,
      "metadata": {
        "id": "U34bPPGMth07",
        "colab": {
          "base_uri": "https://localhost:8080/"
        },
        "outputId": "225fbc58-d9e7-4daa-bab8-755a2554f5ef"
      },
      "outputs": [
        {
          "output_type": "execute_result",
          "data": {
            "text/plain": [
              "True"
            ]
          },
          "metadata": {},
          "execution_count": 11
        }
      ],
      "source": [
        "bike_sales_df.duplicated().values.any()"
      ]
    },
    {
      "cell_type": "code",
      "execution_count": null,
      "metadata": {
        "id": "Xa8G3Rxmtlg8"
      },
      "outputs": [],
      "source": [
        "bike_sales_df = bike_sales_df.drop_duplicates()"
      ]
    },
    {
      "cell_type": "code",
      "execution_count": null,
      "metadata": {
        "id": "XU9mKEeUttBW",
        "colab": {
          "base_uri": "https://localhost:8080/"
        },
        "outputId": "3ed8537f-5e3d-4404-e038-1ef221dbcd53"
      },
      "outputs": [
        {
          "output_type": "execute_result",
          "data": {
            "text/plain": [
              "(112036, 18)"
            ]
          },
          "metadata": {},
          "execution_count": 13
        }
      ],
      "source": [
        "# Before = 113036 rows × 18 columns\n",
        "bike_sales_df.shape"
      ]
    },
    {
      "cell_type": "code",
      "execution_count": null,
      "metadata": {
        "id": "AN6NQav_toN4",
        "colab": {
          "base_uri": "https://localhost:8080/"
        },
        "outputId": "7906597e-b8bf-436a-eabb-ace8c822a866"
      },
      "outputs": [
        {
          "output_type": "execute_result",
          "data": {
            "text/plain": [
              "False"
            ]
          },
          "metadata": {},
          "execution_count": 14
        }
      ],
      "source": [
        "bike_sales_df.duplicated().values.any()"
      ]
    },
    {
      "cell_type": "markdown",
      "metadata": {
        "id": "Q3TMNGmwQwAJ"
      },
      "source": [
        "### Tradução das colunas:"
      ]
    },
    {
      "cell_type": "code",
      "execution_count": null,
      "metadata": {
        "id": "12yMtUtVCOXf"
      },
      "outputs": [],
      "source": [
        "bike_sales_df = bike_sales_df.rename(columns={\n",
        "    'Date': 'Data',\n",
        "    'Day': 'Dia',\n",
        "    'Month': 'Mês', \n",
        "    'Year': 'Ano',\n",
        "    'Customer_Age': 'Idade do Cliente',\n",
        "    'Age_Group': 'Grupo de Idades',\n",
        "    'Customer_Gender': 'Gênero do Cliente',\n",
        "    'Country': 'País',\n",
        "    'State': 'Estado',\n",
        "    'Product_Category': 'Categoria do Produto',\n",
        "    'Sub_Category': 'Subcategoria',\n",
        "    'Product': 'Produto',\n",
        "    'Order_Quantity': 'Quantidade do Pedido',\n",
        "    'Unit_Cost': 'Custo Unitário',\n",
        "    'Unit_Price': 'Preço Unitário',\n",
        "    'Profit': 'Lucro',\n",
        "    'Cost': 'Custo',\n",
        "    'Revenue': 'Receita'\n",
        "})"
      ]
    },
    {
      "cell_type": "code",
      "execution_count": null,
      "metadata": {
        "id": "sDsarhZPCm0Q",
        "colab": {
          "base_uri": "https://localhost:8080/",
          "height": 763
        },
        "outputId": "4394c5bc-8205-4f76-b153-95f0186c1b76"
      },
      "outputs": [
        {
          "output_type": "execute_result",
          "data": {
            "text/plain": [
              "              Data  Dia       Mês   Ano  Idade do Cliente Grupo de Idades  \\\n",
              "0       2013-11-26   26  November  2013                19     Youth (<25)   \n",
              "1       2015-11-26   26  November  2015                19     Youth (<25)   \n",
              "2       2014-03-23   23     March  2014                49  Adults (35-64)   \n",
              "3       2016-03-23   23     March  2016                49  Adults (35-64)   \n",
              "4       2014-05-15   15       May  2014                47  Adults (35-64)   \n",
              "...            ...  ...       ...   ...               ...             ...   \n",
              "113031  2016-04-12   12     April  2016                41  Adults (35-64)   \n",
              "113032  2014-04-02    2     April  2014                18     Youth (<25)   \n",
              "113033  2016-04-02    2     April  2016                18     Youth (<25)   \n",
              "113034  2014-03-04    4     March  2014                37  Adults (35-64)   \n",
              "113035  2016-03-04    4     March  2016                37  Adults (35-64)   \n",
              "\n",
              "       Gênero do Cliente            País            Estado  \\\n",
              "0                      M          Canada  British Columbia   \n",
              "1                      M          Canada  British Columbia   \n",
              "2                      M       Australia   New South Wales   \n",
              "3                      M       Australia   New South Wales   \n",
              "4                      F       Australia   New South Wales   \n",
              "...                  ...             ...               ...   \n",
              "113031                 M  United Kingdom           England   \n",
              "113032                 M       Australia        Queensland   \n",
              "113033                 M       Australia        Queensland   \n",
              "113034                 F          France     Seine (Paris)   \n",
              "113035                 F          France     Seine (Paris)   \n",
              "\n",
              "       Categoria do Produto Subcategoria              Produto  \\\n",
              "0               Accessories   Bike Racks  Hitch Rack - 4-Bike   \n",
              "1               Accessories   Bike Racks  Hitch Rack - 4-Bike   \n",
              "2               Accessories   Bike Racks  Hitch Rack - 4-Bike   \n",
              "3               Accessories   Bike Racks  Hitch Rack - 4-Bike   \n",
              "4               Accessories   Bike Racks  Hitch Rack - 4-Bike   \n",
              "...                     ...          ...                  ...   \n",
              "113031             Clothing        Vests      Classic Vest, S   \n",
              "113032             Clothing        Vests      Classic Vest, M   \n",
              "113033             Clothing        Vests      Classic Vest, M   \n",
              "113034             Clothing        Vests      Classic Vest, L   \n",
              "113035             Clothing        Vests      Classic Vest, L   \n",
              "\n",
              "        Quantidade do Pedido  Custo Unitário  Preço Unitário  Lucro  Custo  \\\n",
              "0                          8              45             120    590    360   \n",
              "1                          8              45             120    590    360   \n",
              "2                         23              45             120   1366   1035   \n",
              "3                         20              45             120   1188    900   \n",
              "4                          4              45             120    238    180   \n",
              "...                      ...             ...             ...    ...    ...   \n",
              "113031                     3              24              64    112     72   \n",
              "113032                    22              24              64    655    528   \n",
              "113033                    22              24              64    655    528   \n",
              "113034                    24              24              64    684    576   \n",
              "113035                    23              24              64    655    552   \n",
              "\n",
              "        Receita  \n",
              "0           950  \n",
              "1           950  \n",
              "2          2401  \n",
              "3          2088  \n",
              "4           418  \n",
              "...         ...  \n",
              "113031      184  \n",
              "113032     1183  \n",
              "113033     1183  \n",
              "113034     1260  \n",
              "113035     1207  \n",
              "\n",
              "[112036 rows x 18 columns]"
            ],
            "text/html": [
              "\n",
              "  <div id=\"df-5419e500-a78c-4a3a-83f7-8da24fbeae26\">\n",
              "    <div class=\"colab-df-container\">\n",
              "      <div>\n",
              "<style scoped>\n",
              "    .dataframe tbody tr th:only-of-type {\n",
              "        vertical-align: middle;\n",
              "    }\n",
              "\n",
              "    .dataframe tbody tr th {\n",
              "        vertical-align: top;\n",
              "    }\n",
              "\n",
              "    .dataframe thead th {\n",
              "        text-align: right;\n",
              "    }\n",
              "</style>\n",
              "<table border=\"1\" class=\"dataframe\">\n",
              "  <thead>\n",
              "    <tr style=\"text-align: right;\">\n",
              "      <th></th>\n",
              "      <th>Data</th>\n",
              "      <th>Dia</th>\n",
              "      <th>Mês</th>\n",
              "      <th>Ano</th>\n",
              "      <th>Idade do Cliente</th>\n",
              "      <th>Grupo de Idades</th>\n",
              "      <th>Gênero do Cliente</th>\n",
              "      <th>País</th>\n",
              "      <th>Estado</th>\n",
              "      <th>Categoria do Produto</th>\n",
              "      <th>Subcategoria</th>\n",
              "      <th>Produto</th>\n",
              "      <th>Quantidade do Pedido</th>\n",
              "      <th>Custo Unitário</th>\n",
              "      <th>Preço Unitário</th>\n",
              "      <th>Lucro</th>\n",
              "      <th>Custo</th>\n",
              "      <th>Receita</th>\n",
              "    </tr>\n",
              "  </thead>\n",
              "  <tbody>\n",
              "    <tr>\n",
              "      <th>0</th>\n",
              "      <td>2013-11-26</td>\n",
              "      <td>26</td>\n",
              "      <td>November</td>\n",
              "      <td>2013</td>\n",
              "      <td>19</td>\n",
              "      <td>Youth (&lt;25)</td>\n",
              "      <td>M</td>\n",
              "      <td>Canada</td>\n",
              "      <td>British Columbia</td>\n",
              "      <td>Accessories</td>\n",
              "      <td>Bike Racks</td>\n",
              "      <td>Hitch Rack - 4-Bike</td>\n",
              "      <td>8</td>\n",
              "      <td>45</td>\n",
              "      <td>120</td>\n",
              "      <td>590</td>\n",
              "      <td>360</td>\n",
              "      <td>950</td>\n",
              "    </tr>\n",
              "    <tr>\n",
              "      <th>1</th>\n",
              "      <td>2015-11-26</td>\n",
              "      <td>26</td>\n",
              "      <td>November</td>\n",
              "      <td>2015</td>\n",
              "      <td>19</td>\n",
              "      <td>Youth (&lt;25)</td>\n",
              "      <td>M</td>\n",
              "      <td>Canada</td>\n",
              "      <td>British Columbia</td>\n",
              "      <td>Accessories</td>\n",
              "      <td>Bike Racks</td>\n",
              "      <td>Hitch Rack - 4-Bike</td>\n",
              "      <td>8</td>\n",
              "      <td>45</td>\n",
              "      <td>120</td>\n",
              "      <td>590</td>\n",
              "      <td>360</td>\n",
              "      <td>950</td>\n",
              "    </tr>\n",
              "    <tr>\n",
              "      <th>2</th>\n",
              "      <td>2014-03-23</td>\n",
              "      <td>23</td>\n",
              "      <td>March</td>\n",
              "      <td>2014</td>\n",
              "      <td>49</td>\n",
              "      <td>Adults (35-64)</td>\n",
              "      <td>M</td>\n",
              "      <td>Australia</td>\n",
              "      <td>New South Wales</td>\n",
              "      <td>Accessories</td>\n",
              "      <td>Bike Racks</td>\n",
              "      <td>Hitch Rack - 4-Bike</td>\n",
              "      <td>23</td>\n",
              "      <td>45</td>\n",
              "      <td>120</td>\n",
              "      <td>1366</td>\n",
              "      <td>1035</td>\n",
              "      <td>2401</td>\n",
              "    </tr>\n",
              "    <tr>\n",
              "      <th>3</th>\n",
              "      <td>2016-03-23</td>\n",
              "      <td>23</td>\n",
              "      <td>March</td>\n",
              "      <td>2016</td>\n",
              "      <td>49</td>\n",
              "      <td>Adults (35-64)</td>\n",
              "      <td>M</td>\n",
              "      <td>Australia</td>\n",
              "      <td>New South Wales</td>\n",
              "      <td>Accessories</td>\n",
              "      <td>Bike Racks</td>\n",
              "      <td>Hitch Rack - 4-Bike</td>\n",
              "      <td>20</td>\n",
              "      <td>45</td>\n",
              "      <td>120</td>\n",
              "      <td>1188</td>\n",
              "      <td>900</td>\n",
              "      <td>2088</td>\n",
              "    </tr>\n",
              "    <tr>\n",
              "      <th>4</th>\n",
              "      <td>2014-05-15</td>\n",
              "      <td>15</td>\n",
              "      <td>May</td>\n",
              "      <td>2014</td>\n",
              "      <td>47</td>\n",
              "      <td>Adults (35-64)</td>\n",
              "      <td>F</td>\n",
              "      <td>Australia</td>\n",
              "      <td>New South Wales</td>\n",
              "      <td>Accessories</td>\n",
              "      <td>Bike Racks</td>\n",
              "      <td>Hitch Rack - 4-Bike</td>\n",
              "      <td>4</td>\n",
              "      <td>45</td>\n",
              "      <td>120</td>\n",
              "      <td>238</td>\n",
              "      <td>180</td>\n",
              "      <td>418</td>\n",
              "    </tr>\n",
              "    <tr>\n",
              "      <th>...</th>\n",
              "      <td>...</td>\n",
              "      <td>...</td>\n",
              "      <td>...</td>\n",
              "      <td>...</td>\n",
              "      <td>...</td>\n",
              "      <td>...</td>\n",
              "      <td>...</td>\n",
              "      <td>...</td>\n",
              "      <td>...</td>\n",
              "      <td>...</td>\n",
              "      <td>...</td>\n",
              "      <td>...</td>\n",
              "      <td>...</td>\n",
              "      <td>...</td>\n",
              "      <td>...</td>\n",
              "      <td>...</td>\n",
              "      <td>...</td>\n",
              "      <td>...</td>\n",
              "    </tr>\n",
              "    <tr>\n",
              "      <th>113031</th>\n",
              "      <td>2016-04-12</td>\n",
              "      <td>12</td>\n",
              "      <td>April</td>\n",
              "      <td>2016</td>\n",
              "      <td>41</td>\n",
              "      <td>Adults (35-64)</td>\n",
              "      <td>M</td>\n",
              "      <td>United Kingdom</td>\n",
              "      <td>England</td>\n",
              "      <td>Clothing</td>\n",
              "      <td>Vests</td>\n",
              "      <td>Classic Vest, S</td>\n",
              "      <td>3</td>\n",
              "      <td>24</td>\n",
              "      <td>64</td>\n",
              "      <td>112</td>\n",
              "      <td>72</td>\n",
              "      <td>184</td>\n",
              "    </tr>\n",
              "    <tr>\n",
              "      <th>113032</th>\n",
              "      <td>2014-04-02</td>\n",
              "      <td>2</td>\n",
              "      <td>April</td>\n",
              "      <td>2014</td>\n",
              "      <td>18</td>\n",
              "      <td>Youth (&lt;25)</td>\n",
              "      <td>M</td>\n",
              "      <td>Australia</td>\n",
              "      <td>Queensland</td>\n",
              "      <td>Clothing</td>\n",
              "      <td>Vests</td>\n",
              "      <td>Classic Vest, M</td>\n",
              "      <td>22</td>\n",
              "      <td>24</td>\n",
              "      <td>64</td>\n",
              "      <td>655</td>\n",
              "      <td>528</td>\n",
              "      <td>1183</td>\n",
              "    </tr>\n",
              "    <tr>\n",
              "      <th>113033</th>\n",
              "      <td>2016-04-02</td>\n",
              "      <td>2</td>\n",
              "      <td>April</td>\n",
              "      <td>2016</td>\n",
              "      <td>18</td>\n",
              "      <td>Youth (&lt;25)</td>\n",
              "      <td>M</td>\n",
              "      <td>Australia</td>\n",
              "      <td>Queensland</td>\n",
              "      <td>Clothing</td>\n",
              "      <td>Vests</td>\n",
              "      <td>Classic Vest, M</td>\n",
              "      <td>22</td>\n",
              "      <td>24</td>\n",
              "      <td>64</td>\n",
              "      <td>655</td>\n",
              "      <td>528</td>\n",
              "      <td>1183</td>\n",
              "    </tr>\n",
              "    <tr>\n",
              "      <th>113034</th>\n",
              "      <td>2014-03-04</td>\n",
              "      <td>4</td>\n",
              "      <td>March</td>\n",
              "      <td>2014</td>\n",
              "      <td>37</td>\n",
              "      <td>Adults (35-64)</td>\n",
              "      <td>F</td>\n",
              "      <td>France</td>\n",
              "      <td>Seine (Paris)</td>\n",
              "      <td>Clothing</td>\n",
              "      <td>Vests</td>\n",
              "      <td>Classic Vest, L</td>\n",
              "      <td>24</td>\n",
              "      <td>24</td>\n",
              "      <td>64</td>\n",
              "      <td>684</td>\n",
              "      <td>576</td>\n",
              "      <td>1260</td>\n",
              "    </tr>\n",
              "    <tr>\n",
              "      <th>113035</th>\n",
              "      <td>2016-03-04</td>\n",
              "      <td>4</td>\n",
              "      <td>March</td>\n",
              "      <td>2016</td>\n",
              "      <td>37</td>\n",
              "      <td>Adults (35-64)</td>\n",
              "      <td>F</td>\n",
              "      <td>France</td>\n",
              "      <td>Seine (Paris)</td>\n",
              "      <td>Clothing</td>\n",
              "      <td>Vests</td>\n",
              "      <td>Classic Vest, L</td>\n",
              "      <td>23</td>\n",
              "      <td>24</td>\n",
              "      <td>64</td>\n",
              "      <td>655</td>\n",
              "      <td>552</td>\n",
              "      <td>1207</td>\n",
              "    </tr>\n",
              "  </tbody>\n",
              "</table>\n",
              "<p>112036 rows × 18 columns</p>\n",
              "</div>\n",
              "      <button class=\"colab-df-convert\" onclick=\"convertToInteractive('df-5419e500-a78c-4a3a-83f7-8da24fbeae26')\"\n",
              "              title=\"Convert this dataframe to an interactive table.\"\n",
              "              style=\"display:none;\">\n",
              "        \n",
              "  <svg xmlns=\"http://www.w3.org/2000/svg\" height=\"24px\"viewBox=\"0 0 24 24\"\n",
              "       width=\"24px\">\n",
              "    <path d=\"M0 0h24v24H0V0z\" fill=\"none\"/>\n",
              "    <path d=\"M18.56 5.44l.94 2.06.94-2.06 2.06-.94-2.06-.94-.94-2.06-.94 2.06-2.06.94zm-11 1L8.5 8.5l.94-2.06 2.06-.94-2.06-.94L8.5 2.5l-.94 2.06-2.06.94zm10 10l.94 2.06.94-2.06 2.06-.94-2.06-.94-.94-2.06-.94 2.06-2.06.94z\"/><path d=\"M17.41 7.96l-1.37-1.37c-.4-.4-.92-.59-1.43-.59-.52 0-1.04.2-1.43.59L10.3 9.45l-7.72 7.72c-.78.78-.78 2.05 0 2.83L4 21.41c.39.39.9.59 1.41.59.51 0 1.02-.2 1.41-.59l7.78-7.78 2.81-2.81c.8-.78.8-2.07 0-2.86zM5.41 20L4 18.59l7.72-7.72 1.47 1.35L5.41 20z\"/>\n",
              "  </svg>\n",
              "      </button>\n",
              "      \n",
              "  <style>\n",
              "    .colab-df-container {\n",
              "      display:flex;\n",
              "      flex-wrap:wrap;\n",
              "      gap: 12px;\n",
              "    }\n",
              "\n",
              "    .colab-df-convert {\n",
              "      background-color: #E8F0FE;\n",
              "      border: none;\n",
              "      border-radius: 50%;\n",
              "      cursor: pointer;\n",
              "      display: none;\n",
              "      fill: #1967D2;\n",
              "      height: 32px;\n",
              "      padding: 0 0 0 0;\n",
              "      width: 32px;\n",
              "    }\n",
              "\n",
              "    .colab-df-convert:hover {\n",
              "      background-color: #E2EBFA;\n",
              "      box-shadow: 0px 1px 2px rgba(60, 64, 67, 0.3), 0px 1px 3px 1px rgba(60, 64, 67, 0.15);\n",
              "      fill: #174EA6;\n",
              "    }\n",
              "\n",
              "    [theme=dark] .colab-df-convert {\n",
              "      background-color: #3B4455;\n",
              "      fill: #D2E3FC;\n",
              "    }\n",
              "\n",
              "    [theme=dark] .colab-df-convert:hover {\n",
              "      background-color: #434B5C;\n",
              "      box-shadow: 0px 1px 3px 1px rgba(0, 0, 0, 0.15);\n",
              "      filter: drop-shadow(0px 1px 2px rgba(0, 0, 0, 0.3));\n",
              "      fill: #FFFFFF;\n",
              "    }\n",
              "  </style>\n",
              "\n",
              "      <script>\n",
              "        const buttonEl =\n",
              "          document.querySelector('#df-5419e500-a78c-4a3a-83f7-8da24fbeae26 button.colab-df-convert');\n",
              "        buttonEl.style.display =\n",
              "          google.colab.kernel.accessAllowed ? 'block' : 'none';\n",
              "\n",
              "        async function convertToInteractive(key) {\n",
              "          const element = document.querySelector('#df-5419e500-a78c-4a3a-83f7-8da24fbeae26');\n",
              "          const dataTable =\n",
              "            await google.colab.kernel.invokeFunction('convertToInteractive',\n",
              "                                                     [key], {});\n",
              "          if (!dataTable) return;\n",
              "\n",
              "          const docLinkHtml = 'Like what you see? Visit the ' +\n",
              "            '<a target=\"_blank\" href=https://colab.research.google.com/notebooks/data_table.ipynb>data table notebook</a>'\n",
              "            + ' to learn more about interactive tables.';\n",
              "          element.innerHTML = '';\n",
              "          dataTable['output_type'] = 'display_data';\n",
              "          await google.colab.output.renderOutput(dataTable, element);\n",
              "          const docLink = document.createElement('div');\n",
              "          docLink.innerHTML = docLinkHtml;\n",
              "          element.appendChild(docLink);\n",
              "        }\n",
              "      </script>\n",
              "    </div>\n",
              "  </div>\n",
              "  "
            ]
          },
          "metadata": {},
          "execution_count": 16
        }
      ],
      "source": [
        "bike_sales_df"
      ]
    },
    {
      "cell_type": "markdown",
      "metadata": {
        "id": "NDUYzP-UO8Ah"
      },
      "source": [
        "### Conversão de conteúdos:"
      ]
    },
    {
      "cell_type": "code",
      "execution_count": null,
      "metadata": {
        "id": "-5ebcISdMOQE",
        "colab": {
          "base_uri": "https://localhost:8080/"
        },
        "outputId": "8ced7cff-7137-4bef-c727-093bda11eddc"
      },
      "outputs": [
        {
          "output_type": "stream",
          "name": "stdout",
          "text": [
            "<class 'pandas.core.frame.DataFrame'>\n",
            "Int64Index: 112036 entries, 0 to 113035\n",
            "Data columns (total 18 columns):\n",
            " #   Column                Non-Null Count   Dtype   \n",
            "---  ------                --------------   -----   \n",
            " 0   Data                  112036 non-null  object  \n",
            " 1   Dia                   112036 non-null  category\n",
            " 2   Mês                   112036 non-null  object  \n",
            " 3   Ano                   112036 non-null  category\n",
            " 4   Idade do Cliente      112036 non-null  int64   \n",
            " 5   Grupo de Idades       112036 non-null  category\n",
            " 6   Gênero do Cliente     112036 non-null  category\n",
            " 7   País                  112036 non-null  category\n",
            " 8   Estado                112036 non-null  category\n",
            " 9   Categoria do Produto  112036 non-null  category\n",
            " 10  Subcategoria          112036 non-null  category\n",
            " 11  Produto               112036 non-null  object  \n",
            " 12  Quantidade do Pedido  112036 non-null  int64   \n",
            " 13  Custo Unitário        112036 non-null  int64   \n",
            " 14  Preço Unitário        112036 non-null  int64   \n",
            " 15  Lucro                 112036 non-null  int64   \n",
            " 16  Custo                 112036 non-null  int64   \n",
            " 17  Receita               112036 non-null  int64   \n",
            "dtypes: category(8), int64(7), object(3)\n",
            "memory usage: 10.3+ MB\n"
          ]
        }
      ],
      "source": [
        "# Convertendo os conteúdos de 'object' para 'category':\n",
        "\n",
        "bike_sales_df['Dia'] = bike_sales_df['Dia'].astype('category')\n",
        "bike_sales_df['Ano'] = bike_sales_df['Ano'].astype('category')\n",
        "bike_sales_df['Grupo de Idades'] = bike_sales_df['Grupo de Idades'].astype('category')\n",
        "bike_sales_df['Gênero do Cliente'] = bike_sales_df['Gênero do Cliente'].astype('category')\n",
        "bike_sales_df['País'] = bike_sales_df['País'].astype('category')\n",
        "bike_sales_df['Estado'] = bike_sales_df['Estado'].astype('category')\n",
        "bike_sales_df['Categoria do Produto'] = bike_sales_df['Categoria do Produto'].astype('category')\n",
        "bike_sales_df['Subcategoria'] = bike_sales_df['Subcategoria'].astype('category')\n",
        "\n",
        "bike_sales_df.info()"
      ]
    },
    {
      "cell_type": "code",
      "execution_count": null,
      "metadata": {
        "id": "jtLhACBNO5Uz",
        "colab": {
          "base_uri": "https://localhost:8080/"
        },
        "outputId": "352891aa-85d9-49f2-9863-b5f05ccbae9e"
      },
      "outputs": [
        {
          "output_type": "stream",
          "name": "stdout",
          "text": [
            "<class 'pandas.core.frame.DataFrame'>\n",
            "Int64Index: 112036 entries, 0 to 113035\n",
            "Data columns (total 18 columns):\n",
            " #   Column                Non-Null Count   Dtype   \n",
            "---  ------                --------------   -----   \n",
            " 0   Data                  112036 non-null  object  \n",
            " 1   Dia                   112036 non-null  category\n",
            " 2   Mês                   112036 non-null  object  \n",
            " 3   Ano                   112036 non-null  category\n",
            " 4   Idade do Cliente      112036 non-null  int64   \n",
            " 5   Grupo de Idades       112036 non-null  category\n",
            " 6   Gênero do Cliente     112036 non-null  category\n",
            " 7   País                  112036 non-null  category\n",
            " 8   Estado                112036 non-null  category\n",
            " 9   Categoria do Produto  112036 non-null  category\n",
            " 10  Subcategoria          112036 non-null  category\n",
            " 11  Produto               112036 non-null  object  \n",
            " 12  Quantidade do Pedido  112036 non-null  int64   \n",
            " 13  Custo Unitário        112036 non-null  float64 \n",
            " 14  Preço Unitário        112036 non-null  float64 \n",
            " 15  Lucro                 112036 non-null  float64 \n",
            " 16  Custo                 112036 non-null  float64 \n",
            " 17  Receita               112036 non-null  float64 \n",
            "dtypes: category(8), float64(5), int64(2), object(3)\n",
            "memory usage: 10.3+ MB\n"
          ]
        }
      ],
      "source": [
        "# Convertendo os conteúdos de 'int64' para 'float64':\n",
        "\n",
        "#bike_sales_df['Quantidade do Pedido'] = bike_sales_df['Quantidade do Pedido'].astype('float64')\n",
        "bike_sales_df['Custo Unitário'] = bike_sales_df['Custo Unitário'].astype('float64')\n",
        "bike_sales_df['Preço Unitário'] = bike_sales_df['Preço Unitário'].astype('float64')\n",
        "bike_sales_df['Lucro'] = bike_sales_df['Lucro'].astype('float64')\n",
        "bike_sales_df['Custo'] = bike_sales_df['Custo'].astype('float64')\n",
        "bike_sales_df['Receita'] = bike_sales_df['Receita'].astype('float64')\n",
        "\n",
        "bike_sales_df.info()"
      ]
    },
    {
      "cell_type": "markdown",
      "metadata": {
        "id": "aksJ1gKUQ9Vh"
      },
      "source": [
        "## Análise Univariada"
      ]
    },
    {
      "cell_type": "code",
      "execution_count": null,
      "metadata": {
        "id": "fluB09KKEYTe"
      },
      "outputs": [],
      "source": [
        "ano = bike_sales_df['Ano'].tolist()\n",
        "idade_cliente = bike_sales_df['Idade do Cliente'].tolist()\n",
        "genero_cliente = bike_sales_df['Gênero do Cliente'].tolist()\n",
        "pais = bike_sales_df['País'].tolist()\n",
        "estado = bike_sales_df['Estado'].tolist()\n",
        "categoria_produto = bike_sales_df['Categoria do Produto'].tolist()\n",
        "subcategoria = bike_sales_df['Subcategoria'].tolist()"
      ]
    },
    {
      "cell_type": "code",
      "execution_count": null,
      "metadata": {
        "id": "fc06Jd-HILrl",
        "colab": {
          "base_uri": "https://localhost:8080/",
          "height": 300
        },
        "outputId": "d080d866-2865-4c87-c070-7a07cc339bf8"
      },
      "outputs": [
        {
          "output_type": "execute_result",
          "data": {
            "text/plain": [
              "       Idade do Cliente  Quantidade do Pedido  Custo Unitário  Preço Unitário  \\\n",
              "count     112036.000000         112036.000000   112036.000000   112036.000000   \n",
              "mean          35.919508             11.904254      267.819603      453.850628   \n",
              "std           11.016543              9.564877      550.218722      922.751848   \n",
              "min           17.000000              1.000000        1.000000        2.000000   \n",
              "25%           28.000000              2.000000        2.000000        5.000000   \n",
              "50%           35.000000             10.000000        9.000000       25.000000   \n",
              "75%           43.000000             20.000000       42.000000       70.000000   \n",
              "max           87.000000             32.000000     2171.000000     3578.000000   \n",
              "\n",
              "               Lucro          Custo        Receita  \n",
              "count  112036.000000  112036.000000  112036.000000  \n",
              "mean      286.035194     471.103333     757.138527  \n",
              "std       454.852634     886.971635    1312.061623  \n",
              "min       -30.000000       1.000000       2.000000  \n",
              "25%        29.000000      28.000000      64.000000  \n",
              "50%       103.000000     112.000000     226.000000  \n",
              "75%       360.000000     442.000000     806.000000  \n",
              "max     15096.000000   42978.000000   58074.000000  "
            ],
            "text/html": [
              "\n",
              "  <div id=\"df-cd6787d9-81d2-45ab-92ab-730748def2de\">\n",
              "    <div class=\"colab-df-container\">\n",
              "      <div>\n",
              "<style scoped>\n",
              "    .dataframe tbody tr th:only-of-type {\n",
              "        vertical-align: middle;\n",
              "    }\n",
              "\n",
              "    .dataframe tbody tr th {\n",
              "        vertical-align: top;\n",
              "    }\n",
              "\n",
              "    .dataframe thead th {\n",
              "        text-align: right;\n",
              "    }\n",
              "</style>\n",
              "<table border=\"1\" class=\"dataframe\">\n",
              "  <thead>\n",
              "    <tr style=\"text-align: right;\">\n",
              "      <th></th>\n",
              "      <th>Idade do Cliente</th>\n",
              "      <th>Quantidade do Pedido</th>\n",
              "      <th>Custo Unitário</th>\n",
              "      <th>Preço Unitário</th>\n",
              "      <th>Lucro</th>\n",
              "      <th>Custo</th>\n",
              "      <th>Receita</th>\n",
              "    </tr>\n",
              "  </thead>\n",
              "  <tbody>\n",
              "    <tr>\n",
              "      <th>count</th>\n",
              "      <td>112036.000000</td>\n",
              "      <td>112036.000000</td>\n",
              "      <td>112036.000000</td>\n",
              "      <td>112036.000000</td>\n",
              "      <td>112036.000000</td>\n",
              "      <td>112036.000000</td>\n",
              "      <td>112036.000000</td>\n",
              "    </tr>\n",
              "    <tr>\n",
              "      <th>mean</th>\n",
              "      <td>35.919508</td>\n",
              "      <td>11.904254</td>\n",
              "      <td>267.819603</td>\n",
              "      <td>453.850628</td>\n",
              "      <td>286.035194</td>\n",
              "      <td>471.103333</td>\n",
              "      <td>757.138527</td>\n",
              "    </tr>\n",
              "    <tr>\n",
              "      <th>std</th>\n",
              "      <td>11.016543</td>\n",
              "      <td>9.564877</td>\n",
              "      <td>550.218722</td>\n",
              "      <td>922.751848</td>\n",
              "      <td>454.852634</td>\n",
              "      <td>886.971635</td>\n",
              "      <td>1312.061623</td>\n",
              "    </tr>\n",
              "    <tr>\n",
              "      <th>min</th>\n",
              "      <td>17.000000</td>\n",
              "      <td>1.000000</td>\n",
              "      <td>1.000000</td>\n",
              "      <td>2.000000</td>\n",
              "      <td>-30.000000</td>\n",
              "      <td>1.000000</td>\n",
              "      <td>2.000000</td>\n",
              "    </tr>\n",
              "    <tr>\n",
              "      <th>25%</th>\n",
              "      <td>28.000000</td>\n",
              "      <td>2.000000</td>\n",
              "      <td>2.000000</td>\n",
              "      <td>5.000000</td>\n",
              "      <td>29.000000</td>\n",
              "      <td>28.000000</td>\n",
              "      <td>64.000000</td>\n",
              "    </tr>\n",
              "    <tr>\n",
              "      <th>50%</th>\n",
              "      <td>35.000000</td>\n",
              "      <td>10.000000</td>\n",
              "      <td>9.000000</td>\n",
              "      <td>25.000000</td>\n",
              "      <td>103.000000</td>\n",
              "      <td>112.000000</td>\n",
              "      <td>226.000000</td>\n",
              "    </tr>\n",
              "    <tr>\n",
              "      <th>75%</th>\n",
              "      <td>43.000000</td>\n",
              "      <td>20.000000</td>\n",
              "      <td>42.000000</td>\n",
              "      <td>70.000000</td>\n",
              "      <td>360.000000</td>\n",
              "      <td>442.000000</td>\n",
              "      <td>806.000000</td>\n",
              "    </tr>\n",
              "    <tr>\n",
              "      <th>max</th>\n",
              "      <td>87.000000</td>\n",
              "      <td>32.000000</td>\n",
              "      <td>2171.000000</td>\n",
              "      <td>3578.000000</td>\n",
              "      <td>15096.000000</td>\n",
              "      <td>42978.000000</td>\n",
              "      <td>58074.000000</td>\n",
              "    </tr>\n",
              "  </tbody>\n",
              "</table>\n",
              "</div>\n",
              "      <button class=\"colab-df-convert\" onclick=\"convertToInteractive('df-cd6787d9-81d2-45ab-92ab-730748def2de')\"\n",
              "              title=\"Convert this dataframe to an interactive table.\"\n",
              "              style=\"display:none;\">\n",
              "        \n",
              "  <svg xmlns=\"http://www.w3.org/2000/svg\" height=\"24px\"viewBox=\"0 0 24 24\"\n",
              "       width=\"24px\">\n",
              "    <path d=\"M0 0h24v24H0V0z\" fill=\"none\"/>\n",
              "    <path d=\"M18.56 5.44l.94 2.06.94-2.06 2.06-.94-2.06-.94-.94-2.06-.94 2.06-2.06.94zm-11 1L8.5 8.5l.94-2.06 2.06-.94-2.06-.94L8.5 2.5l-.94 2.06-2.06.94zm10 10l.94 2.06.94-2.06 2.06-.94-2.06-.94-.94-2.06-.94 2.06-2.06.94z\"/><path d=\"M17.41 7.96l-1.37-1.37c-.4-.4-.92-.59-1.43-.59-.52 0-1.04.2-1.43.59L10.3 9.45l-7.72 7.72c-.78.78-.78 2.05 0 2.83L4 21.41c.39.39.9.59 1.41.59.51 0 1.02-.2 1.41-.59l7.78-7.78 2.81-2.81c.8-.78.8-2.07 0-2.86zM5.41 20L4 18.59l7.72-7.72 1.47 1.35L5.41 20z\"/>\n",
              "  </svg>\n",
              "      </button>\n",
              "      \n",
              "  <style>\n",
              "    .colab-df-container {\n",
              "      display:flex;\n",
              "      flex-wrap:wrap;\n",
              "      gap: 12px;\n",
              "    }\n",
              "\n",
              "    .colab-df-convert {\n",
              "      background-color: #E8F0FE;\n",
              "      border: none;\n",
              "      border-radius: 50%;\n",
              "      cursor: pointer;\n",
              "      display: none;\n",
              "      fill: #1967D2;\n",
              "      height: 32px;\n",
              "      padding: 0 0 0 0;\n",
              "      width: 32px;\n",
              "    }\n",
              "\n",
              "    .colab-df-convert:hover {\n",
              "      background-color: #E2EBFA;\n",
              "      box-shadow: 0px 1px 2px rgba(60, 64, 67, 0.3), 0px 1px 3px 1px rgba(60, 64, 67, 0.15);\n",
              "      fill: #174EA6;\n",
              "    }\n",
              "\n",
              "    [theme=dark] .colab-df-convert {\n",
              "      background-color: #3B4455;\n",
              "      fill: #D2E3FC;\n",
              "    }\n",
              "\n",
              "    [theme=dark] .colab-df-convert:hover {\n",
              "      background-color: #434B5C;\n",
              "      box-shadow: 0px 1px 3px 1px rgba(0, 0, 0, 0.15);\n",
              "      filter: drop-shadow(0px 1px 2px rgba(0, 0, 0, 0.3));\n",
              "      fill: #FFFFFF;\n",
              "    }\n",
              "  </style>\n",
              "\n",
              "      <script>\n",
              "        const buttonEl =\n",
              "          document.querySelector('#df-cd6787d9-81d2-45ab-92ab-730748def2de button.colab-df-convert');\n",
              "        buttonEl.style.display =\n",
              "          google.colab.kernel.accessAllowed ? 'block' : 'none';\n",
              "\n",
              "        async function convertToInteractive(key) {\n",
              "          const element = document.querySelector('#df-cd6787d9-81d2-45ab-92ab-730748def2de');\n",
              "          const dataTable =\n",
              "            await google.colab.kernel.invokeFunction('convertToInteractive',\n",
              "                                                     [key], {});\n",
              "          if (!dataTable) return;\n",
              "\n",
              "          const docLinkHtml = 'Like what you see? Visit the ' +\n",
              "            '<a target=\"_blank\" href=https://colab.research.google.com/notebooks/data_table.ipynb>data table notebook</a>'\n",
              "            + ' to learn more about interactive tables.';\n",
              "          element.innerHTML = '';\n",
              "          dataTable['output_type'] = 'display_data';\n",
              "          await google.colab.output.renderOutput(dataTable, element);\n",
              "          const docLink = document.createElement('div');\n",
              "          docLink.innerHTML = docLinkHtml;\n",
              "          element.appendChild(docLink);\n",
              "        }\n",
              "      </script>\n",
              "    </div>\n",
              "  </div>\n",
              "  "
            ]
          },
          "metadata": {},
          "execution_count": 20
        }
      ],
      "source": [
        "bike_sales_df.describe()"
      ]
    },
    {
      "cell_type": "markdown",
      "metadata": {
        "id": "MZOOUHuYTypY"
      },
      "source": [
        "\n",
        "- Pode-se observar que os dados referentes a \"Idade do Cliente\" e \"Quantidade do Pedido\" estão bem distribuídos e não há presença de outliers. A média de idade dos clientes é de, aproximadamente, 35 anos.\n",
        "- O \"Custo Unitário\", \"Preço Unitário\", \"Lucro\", \"Custo\" e \"Receita\" possuem dados que tendem a não seguir uma distribuição normal devido a diferença entre a mediana e a média.\n",
        "- É notada a possibilidade de existir um outlier nos atributos \"Custo Unitário\", \"Preço Unitário\", \"Lucro\", \"Custo\" e \"Receita\", embora a causa ainda seja desconhecida.\n",
        "- Observando a coluna de \"Lucro\", há indícios que a empresa obteve prejuízo, porém ainda não é possível verificar se é um caso isolado.\n"
      ]
    },
    {
      "cell_type": "markdown",
      "metadata": {
        "id": "qvz5qxPGiwe3"
      },
      "source": [
        "## Análise multivariada"
      ]
    },
    {
      "cell_type": "code",
      "execution_count": null,
      "metadata": {
        "id": "Avje9kuojPxO",
        "colab": {
          "base_uri": "https://localhost:8080/",
          "height": 635
        },
        "outputId": "dd6e53f8-19f9-44b6-b72c-55d7f576bf69"
      },
      "outputs": [
        {
          "output_type": "display_data",
          "data": {
            "text/plain": [
              "<Figure size 960x640 with 2 Axes>"
            ],
            "image/png": "[encoded data removed]"
          },
          "metadata": {}
        }
      ],
      "source": [
        "fig = plt.figure()\n",
        "\n",
        "sns.heatmap(round(bike_sales_df.corr(),2), annot = True, vmin=-1, vmax=1, center= 0, cmap= 'coolwarm');"
      ]
    },
    {
      "cell_type": "markdown",
      "metadata": {
        "id": "-2ynBIfT3A8N"
      },
      "source": [
        "A princípio, a matriz de correlação permite observar algumas tendências, mas ainda não é possível chegar a uma conclusão:\n",
        "\n",
        "- A idade do cliente não apresenta correlação com os demais dados relacionados com a rentabilidade da empresa, como a receita, principalmente;\n",
        "\n",
        "- A quantidade do pedido se apresenta como inversamente proporcional ao lucro e possui baixa correlação com o mesmo. Em contrapartida, o custo unitário é diretamente proporcional ao lucro. Para ambas variáveis, este resultado é contraintuitivo.\n",
        "\n",
        "- O preço unitário e a receita se apresentam como diretamente proporcionais ao lucro. Sendo esses dois resultados coerentes com o que se espera de resultado da empresa."
      ]
    },
    {
      "cell_type": "markdown",
      "source": [
        "Atributo target: **lucro**"
      ],
      "metadata": {
        "id": "qIMh2RL0sBIb"
      }
    },
    {
      "cell_type": "markdown",
      "metadata": {
        "id": "9lOx9xXCjNvO"
      },
      "source": [
        "### 2 atributos categóricos;"
      ]
    },
    {
      "cell_type": "code",
      "source": [
        "fig, ax = plt.subplots(figsize=(10,5))\n",
        "sns.barplot(data= bike_sales_df, x='País', y='Lucro', hue='Grupo de Idades',palette='deep',alpha=1,ci=None, ax=ax)\n",
        "plt.title('Lucro global por Grupo de Idades dos clientes',fontdict={'fontsize': 15}, y=1.02)\n",
        "plt.legend(bbox_to_anchor=(1.05, 0.6))\n",
        "plt.tight_layout()\n",
        "plt.show()"
      ],
      "metadata": {
        "id": "n_GdUhGOLUcH",
        "colab": {
          "base_uri": "https://localhost:8080/",
          "height": 409
        },
        "outputId": "f47d7944-10a3-435a-960b-c4584d3e25f4"
      },
      "execution_count": null,
      "outputs": [
        {
          "output_type": "display_data",
          "data": {
            "text/plain": [
              "<Figure size 800x400 with 1 Axes>"
            ],
            "image/png": "[encoded data removed]"
          },
          "metadata": {}
        }
      ]
    },
    {
      "cell_type": "markdown",
      "source": [
        "*   Como foi observado no gráfico anterior, os Estados Unidos se sobressai em todos grupos de idades comparado aos demais países;\n",
        "*   É visto também que os Adultos (35-64 anos) e os Jovens Adultos (25-34) são os que mais contribuem para venda de bicicleta;"
      ],
      "metadata": {
        "id": "vjPKKOsspwro"
      }
    },
    {
      "cell_type": "code",
      "source": [
        "fig, ax = plt.subplots(figsize=(10,5))\n",
        "sns.barplot(data= bike_sales_df, x='País', y='Lucro', hue='Categoria do Produto',palette='deep',alpha=1,ci=None, ax=ax)\n",
        "plt.title('Lucro global por Categoria do Produto',fontdict={'fontsize': 15}, y=1.02)\n",
        "plt.legend(bbox_to_anchor=(1.05, 0.6))\n",
        "plt.tight_layout()\n",
        "plt.show()"
      ],
      "metadata": {
        "colab": {
          "base_uri": "https://localhost:8080/",
          "height": 409
        },
        "id": "sM8LlXyhzk17",
        "outputId": "d806b4cc-b907-4c22-9f56-a887880561f4"
      },
      "execution_count": null,
      "outputs": [
        {
          "output_type": "display_data",
          "data": {
            "text/plain": [
              "<Figure size 800x400 with 1 Axes>"
            ],
            "image/png": "[encoded data removed]"
          },
          "metadata": {}
        }
      ]
    },
    {
      "cell_type": "markdown",
      "source": [
        "*   É observado em todos os países o predomínio na compra por bicicletas em relação aos demais produtos.\n",
        "*   O Canadá possui um lucro maior na venda de bicicletas.\n",
        "\n"
      ],
      "metadata": {
        "id": "5fsdLgT2z99s"
      }
    },
    {
      "cell_type": "code",
      "source": [
        "fig, ax = plt.subplots(figsize=(10,5))\n",
        "sns.barplot(data= bike_sales_df, x='País', y='Lucro', hue='Gênero do Cliente',palette='deep',alpha=1,ci=None, ax=ax)\n",
        "plt.title('Lucro global por Gênero do Cliente',fontdict={'fontsize': 15}, y=1.02)\n",
        "plt.legend(bbox_to_anchor=(1.05, 0.6))\n",
        "plt.tight_layout()\n",
        "plt.show()"
      ],
      "metadata": {
        "id": "Y6Qcfa7tLE5d",
        "colab": {
          "base_uri": "https://localhost:8080/",
          "height": 409
        },
        "outputId": "22892f45-8abb-4b16-a6ca-3056842ee8c9"
      },
      "execution_count": null,
      "outputs": [
        {
          "output_type": "display_data",
          "data": {
            "text/plain": [
              "<Figure size 800x400 with 1 Axes>"
            ],
            "image/png": "[encoded data removed]"
          },
          "metadata": {}
        }
      ]
    },
    {
      "cell_type": "markdown",
      "source": [
        "Nota-se que não existe uma predominância de gênero em relação ao lucro:\n",
        "\n",
        "*   Na Austrália, Alemanhã e Reino Unido, as mulheres têm mais influência no lucro;\n",
        "*   No Canadá, França e Estados Unidos, os homens têm mais influência no lucro."
      ],
      "metadata": {
        "id": "tApAdahGJQg_"
      }
    },
    {
      "cell_type": "code",
      "source": [
        "fig, ax = plt.subplots(figsize=(10,5))\n",
        "sns.barplot(data=bike_sales_df, x='País', y='Lucro', hue='Ano',palette='deep',alpha=1,ci=None, ax=ax)\n",
        "plt.title('Lucro global por Ano',fontdict={'fontsize': 15}, y=1.02)\n",
        "plt.legend(bbox_to_anchor=(1.05, 0.6))\n",
        "plt.tight_layout()\n",
        "plt.show()"
      ],
      "metadata": {
        "colab": {
          "base_uri": "https://localhost:8080/",
          "height": 409
        },
        "id": "Ag3cPpj8QtXl",
        "outputId": "187f5158-6be6-4109-a5fb-3300ee61c8c9"
      },
      "execution_count": null,
      "outputs": [
        {
          "output_type": "display_data",
          "data": {
            "text/plain": [
              "<Figure size 800x400 with 1 Axes>"
            ],
            "image/png": "[encoded data removed]"
          },
          "metadata": {}
        }
      ]
    },
    {
      "cell_type": "markdown",
      "source": [
        "- Observa-se que os anos mais significativos foram 2011 e 2012 para todos os países.\n",
        "- Austrália, França, Alemanha e Reino Unido obtiveram lucros muito próximos para ambos os anos.\n",
        "- Vale ressaltar que, ainda nesse intervalo de datas, a Austrália foi o país que teve o menor nível de lucro em relação aos demais.\n",
        "- Nos demais anos não houveram diferenças destacáveis."
      ],
      "metadata": {
        "id": "7d4_EIi7Q7O8"
      }
    },
    {
      "cell_type": "code",
      "source": [
        "fig, ax = plt.subplots(figsize=(10,5))\n",
        "sns.barplot(data= bike_sales_df, x='País', y='Lucro', hue='Mês',palette='deep',alpha=1,ci=None, ax=ax)\n",
        "plt.title('Lucro global por Mês',fontdict={'fontsize': 15}, y=1.02)\n",
        "plt.legend(bbox_to_anchor=(1.05, 0.6))\n",
        "plt.tight_layout()\n",
        "plt.show()"
      ],
      "metadata": {
        "id": "QvI7MzAs-J3w",
        "outputId": "c08e1058-b095-411a-ec2f-1308eaf3b93f",
        "colab": {
          "base_uri": "https://localhost:8080/",
          "height": 413
        }
      },
      "execution_count": null,
      "outputs": [
        {
          "output_type": "display_data",
          "data": {
            "text/plain": [
              "<Figure size 800x400 with 1 Axes>"
            ],
            "image/png": "[encoded data removed]"
          },
          "metadata": {}
        }
      ]
    },
    {
      "cell_type": "markdown",
      "source": [
        "- Agosto é o mês em que se obteve o menor resultado de lucro entre os países.\n",
        "- No mês de fevereiro, Canadá e Reino Unido tiveram índices disparados de lucro.\n",
        "- Em dezembro, os países que possuíram o maior lucro foram a Austrália e França."
      ],
      "metadata": {
        "id": "oTCyPb5TEAgc"
      }
    },
    {
      "cell_type": "markdown",
      "metadata": {
        "id": "3B4E9LuBjUIW"
      },
      "source": [
        "###2 atributos contínuos;"
      ]
    },
    {
      "cell_type": "code",
      "source": [
        "sns.jointplot(x='Custo', y='Receita', \n",
        "              data=bike_sales_df, kind='scatter');"
      ],
      "metadata": {
        "colab": {
          "base_uri": "https://localhost:8080/",
          "height": 489
        },
        "id": "YQOCAOELz8Rv",
        "outputId": "44bd5209-8eb8-40ad-cbc3-766c9288bd5c"
      },
      "execution_count": null,
      "outputs": [
        {
          "output_type": "display_data",
          "data": {
            "text/plain": [
              "<Figure size 480x480 with 3 Axes>"
            ],
            "image/png": "[encoded data removed]"
          },
          "metadata": {}
        }
      ]
    },
    {
      "cell_type": "code",
      "source": [
        "sns.jointplot(x='Quantidade do Pedido', y='Lucro', \n",
        "              data=bike_sales_df, kind='scatter');"
      ],
      "metadata": {
        "id": "tyWdkzFP1Yl6",
        "colab": {
          "base_uri": "https://localhost:8080/",
          "height": 489
        },
        "outputId": "dc91293f-fef5-4e47-81e6-40f9f684b774"
      },
      "execution_count": null,
      "outputs": [
        {
          "output_type": "display_data",
          "data": {
            "text/plain": [
              "<Figure size 480x480 with 3 Axes>"
            ],
            "image/png": "[encoded data removed]"
          },
          "metadata": {}
        }
      ]
    },
    {
      "cell_type": "markdown",
      "source": [
        "Neste gráfico, podemos confirmar as análises que vimos anteriormente que o preço unitário e a receita se apresentam como diretamente proporcionais ao lucro. Sendo esses dois resultados coerentes com o que se espera de resultado da empresa. Bem como a existência de outlier nos atributos \"Custo\" e \"Receita\"."
      ],
      "metadata": {
        "id": "vu64tx51aNPL"
      }
    },
    {
      "cell_type": "code",
      "source": [
        "sns.jointplot(x='Custo Unitário', y='Preço Unitário', \n",
        "              data=bike_sales_df, kind='scatter');"
      ],
      "metadata": {
        "id": "GKagvee_cGRX",
        "colab": {
          "base_uri": "https://localhost:8080/",
          "height": 489
        },
        "outputId": "a041cfdd-921a-4771-f9a0-cd1ea0056e70"
      },
      "execution_count": null,
      "outputs": [
        {
          "output_type": "display_data",
          "data": {
            "text/plain": [
              "<Figure size 480x480 with 3 Axes>"
            ],
            "image/png": "[encoded data removed]"
          },
          "metadata": {}
        }
      ]
    },
    {
      "cell_type": "markdown",
      "source": [
        "Neste gráfico, podemos confirmar as análises que vimos anteriormente que o preço unitário e a receita se apresentam como diretamente proporcionais ao lucro. Sendo esses dois resultados coerentes com o que se espera de resultado da empresa. Bem como a existência de outlier nos atributos \"Custo Unitário\" e \"Preço Unitário\"."
      ],
      "metadata": {
        "id": "dAd1BsescSwf"
      }
    },
    {
      "cell_type": "code",
      "source": [
        "sns.jointplot(x='Lucro', y='Custo', \n",
        "              data=bike_sales_df, kind='scatter');"
      ],
      "metadata": {
        "id": "swVoM4KCcgqj",
        "colab": {
          "base_uri": "https://localhost:8080/",
          "height": 489
        },
        "outputId": "685583c2-c64b-4b15-dba0-10197c907ff3"
      },
      "execution_count": null,
      "outputs": [
        {
          "output_type": "display_data",
          "data": {
            "text/plain": [
              "<Figure size 480x480 with 3 Axes>"
            ],
            "image/png": "[encoded data removed]"
          },
          "metadata": {}
        }
      ]
    },
    {
      "cell_type": "markdown",
      "source": [
        "Como resultado temos um gráfico que reforça a correlação entre essas variáveis. Essa figura possui uma tendência crescente entre os eixos caracterizando esse comportamento. \n",
        "O gráfico confirma também, mais uma vez, a existência de outlier nos atributos \"Custo\" e \"Lucro\"."
      ],
      "metadata": {
        "id": "scpO-LgMdz7x"
      }
    },
    {
      "cell_type": "markdown",
      "source": [
        "###1 atributo contínuo x 1 atributo categórico."
      ],
      "metadata": {
        "id": "P6pDEMQUzEZe"
      }
    },
    {
      "cell_type": "code",
      "source": [
        "bikes = bike_sales_df[bike_sales_df[\"Categoria do Produto\"] == 'Bikes'][['Ano', 'Quantidade do Pedido']]\n",
        "\n",
        "bikes"
      ],
      "metadata": {
        "id": "Ka_ykYyCfb42",
        "colab": {
          "base_uri": "https://localhost:8080/",
          "height": 424
        },
        "outputId": "28c4c3e8-1727-4d6d-a417-cd9622f05d6b"
      },
      "execution_count": null,
      "outputs": [
        {
          "output_type": "execute_result",
          "data": {
            "text/plain": [
              "         Ano  Quantidade do Pedido\n",
              "49304   2013                     1\n",
              "49305   2015                     1\n",
              "49306   2013                     1\n",
              "49307   2015                     2\n",
              "49308   2013                     1\n",
              "...      ...                   ...\n",
              "112067  2016                     3\n",
              "112068  2014                     1\n",
              "112069  2016                     2\n",
              "112070  2014                     1\n",
              "112071  2016                     2\n",
              "\n",
              "[25794 rows x 2 columns]"
            ],
            "text/html": [
              "\n",
              "  <div id=\"df-cf6c8266-8ab5-43a6-ad0c-162c9b08322a\">\n",
              "    <div class=\"colab-df-container\">\n",
              "      <div>\n",
              "<style scoped>\n",
              "    .dataframe tbody tr th:only-of-type {\n",
              "        vertical-align: middle;\n",
              "    }\n",
              "\n",
              "    .dataframe tbody tr th {\n",
              "        vertical-align: top;\n",
              "    }\n",
              "\n",
              "    .dataframe thead th {\n",
              "        text-align: right;\n",
              "    }\n",
              "</style>\n",
              "<table border=\"1\" class=\"dataframe\">\n",
              "  <thead>\n",
              "    <tr style=\"text-align: right;\">\n",
              "      <th></th>\n",
              "      <th>Ano</th>\n",
              "      <th>Quantidade do Pedido</th>\n",
              "    </tr>\n",
              "  </thead>\n",
              "  <tbody>\n",
              "    <tr>\n",
              "      <th>49304</th>\n",
              "      <td>2013</td>\n",
              "      <td>1</td>\n",
              "    </tr>\n",
              "    <tr>\n",
              "      <th>49305</th>\n",
              "      <td>2015</td>\n",
              "      <td>1</td>\n",
              "    </tr>\n",
              "    <tr>\n",
              "      <th>49306</th>\n",
              "      <td>2013</td>\n",
              "      <td>1</td>\n",
              "    </tr>\n",
              "    <tr>\n",
              "      <th>49307</th>\n",
              "      <td>2015</td>\n",
              "      <td>2</td>\n",
              "    </tr>\n",
              "    <tr>\n",
              "      <th>49308</th>\n",
              "      <td>2013</td>\n",
              "      <td>1</td>\n",
              "    </tr>\n",
              "    <tr>\n",
              "      <th>...</th>\n",
              "      <td>...</td>\n",
              "      <td>...</td>\n",
              "    </tr>\n",
              "    <tr>\n",
              "      <th>112067</th>\n",
              "      <td>2016</td>\n",
              "      <td>3</td>\n",
              "    </tr>\n",
              "    <tr>\n",
              "      <th>112068</th>\n",
              "      <td>2014</td>\n",
              "      <td>1</td>\n",
              "    </tr>\n",
              "    <tr>\n",
              "      <th>112069</th>\n",
              "      <td>2016</td>\n",
              "      <td>2</td>\n",
              "    </tr>\n",
              "    <tr>\n",
              "      <th>112070</th>\n",
              "      <td>2014</td>\n",
              "      <td>1</td>\n",
              "    </tr>\n",
              "    <tr>\n",
              "      <th>112071</th>\n",
              "      <td>2016</td>\n",
              "      <td>2</td>\n",
              "    </tr>\n",
              "  </tbody>\n",
              "</table>\n",
              "<p>25794 rows × 2 columns</p>\n",
              "</div>\n",
              "      <button class=\"colab-df-convert\" onclick=\"convertToInteractive('df-cf6c8266-8ab5-43a6-ad0c-162c9b08322a')\"\n",
              "              title=\"Convert this dataframe to an interactive table.\"\n",
              "              style=\"display:none;\">\n",
              "        \n",
              "  <svg xmlns=\"http://www.w3.org/2000/svg\" height=\"24px\"viewBox=\"0 0 24 24\"\n",
              "       width=\"24px\">\n",
              "    <path d=\"M0 0h24v24H0V0z\" fill=\"none\"/>\n",
              "    <path d=\"M18.56 5.44l.94 2.06.94-2.06 2.06-.94-2.06-.94-.94-2.06-.94 2.06-2.06.94zm-11 1L8.5 8.5l.94-2.06 2.06-.94-2.06-.94L8.5 2.5l-.94 2.06-2.06.94zm10 10l.94 2.06.94-2.06 2.06-.94-2.06-.94-.94-2.06-.94 2.06-2.06.94z\"/><path d=\"M17.41 7.96l-1.37-1.37c-.4-.4-.92-.59-1.43-.59-.52 0-1.04.2-1.43.59L10.3 9.45l-7.72 7.72c-.78.78-.78 2.05 0 2.83L4 21.41c.39.39.9.59 1.41.59.51 0 1.02-.2 1.41-.59l7.78-7.78 2.81-2.81c.8-.78.8-2.07 0-2.86zM5.41 20L4 18.59l7.72-7.72 1.47 1.35L5.41 20z\"/>\n",
              "  </svg>\n",
              "      </button>\n",
              "      \n",
              "  <style>\n",
              "    .colab-df-container {\n",
              "      display:flex;\n",
              "      flex-wrap:wrap;\n",
              "      gap: 12px;\n",
              "    }\n",
              "\n",
              "    .colab-df-convert {\n",
              "      background-color: #E8F0FE;\n",
              "      border: none;\n",
              "      border-radius: 50%;\n",
              "      cursor: pointer;\n",
              "      display: none;\n",
              "      fill: #1967D2;\n",
              "      height: 32px;\n",
              "      padding: 0 0 0 0;\n",
              "      width: 32px;\n",
              "    }\n",
              "\n",
              "    .colab-df-convert:hover {\n",
              "      background-color: #E2EBFA;\n",
              "      box-shadow: 0px 1px 2px rgba(60, 64, 67, 0.3), 0px 1px 3px 1px rgba(60, 64, 67, 0.15);\n",
              "      fill: #174EA6;\n",
              "    }\n",
              "\n",
              "    [theme=dark] .colab-df-convert {\n",
              "      background-color: #3B4455;\n",
              "      fill: #D2E3FC;\n",
              "    }\n",
              "\n",
              "    [theme=dark] .colab-df-convert:hover {\n",
              "      background-color: #434B5C;\n",
              "      box-shadow: 0px 1px 3px 1px rgba(0, 0, 0, 0.15);\n",
              "      filter: drop-shadow(0px 1px 2px rgba(0, 0, 0, 0.3));\n",
              "      fill: #FFFFFF;\n",
              "    }\n",
              "  </style>\n",
              "\n",
              "      <script>\n",
              "        const buttonEl =\n",
              "          document.querySelector('#df-cf6c8266-8ab5-43a6-ad0c-162c9b08322a button.colab-df-convert');\n",
              "        buttonEl.style.display =\n",
              "          google.colab.kernel.accessAllowed ? 'block' : 'none';\n",
              "\n",
              "        async function convertToInteractive(key) {\n",
              "          const element = document.querySelector('#df-cf6c8266-8ab5-43a6-ad0c-162c9b08322a');\n",
              "          const dataTable =\n",
              "            await google.colab.kernel.invokeFunction('convertToInteractive',\n",
              "                                                     [key], {});\n",
              "          if (!dataTable) return;\n",
              "\n",
              "          const docLinkHtml = 'Like what you see? Visit the ' +\n",
              "            '<a target=\"_blank\" href=https://colab.research.google.com/notebooks/data_table.ipynb>data table notebook</a>'\n",
              "            + ' to learn more about interactive tables.';\n",
              "          element.innerHTML = '';\n",
              "          dataTable['output_type'] = 'display_data';\n",
              "          await google.colab.output.renderOutput(dataTable, element);\n",
              "          const docLink = document.createElement('div');\n",
              "          docLink.innerHTML = docLinkHtml;\n",
              "          element.appendChild(docLink);\n",
              "        }\n",
              "      </script>\n",
              "    </div>\n",
              "  </div>\n",
              "  "
            ]
          },
          "metadata": {},
          "execution_count": 32
        }
      ]
    },
    {
      "cell_type": "code",
      "source": [
        "sns.scatterplot(x='Categoria do Produto', y='Lucro', data=bike_sales_df)"
      ],
      "metadata": {
        "id": "IpHAHfQ_pAoI",
        "colab": {
          "base_uri": "https://localhost:8080/",
          "height": 563
        },
        "outputId": "f4d67289-1643-4123-f5c9-5214fa7118c3"
      },
      "execution_count": null,
      "outputs": [
        {
          "output_type": "execute_result",
          "data": {
            "text/plain": [
              "<matplotlib.axes._subplots.AxesSubplot at 0x7f816477d610>"
            ]
          },
          "metadata": {},
          "execution_count": 33
        },
        {
          "output_type": "display_data",
          "data": {
            "text/plain": [
              "<Figure size 960x640 with 1 Axes>"
            ],
            "image/png": "[encoded data removed]"
          },
          "metadata": {}
        }
      ]
    },
    {
      "cell_type": "markdown",
      "source": [
        "Neste gráfico, podemos confirmar o resultado esperado de que a venda das bicicletas é o que mais contribui para o lucro das empresas. \n",
        "Podemos obersar também um outlier na venda das roupas."
      ],
      "metadata": {
        "id": "7DZaZdidpoO8"
      }
    },
    {
      "cell_type": "markdown",
      "metadata": {
        "id": "zLLQEfpvi54w"
      },
      "source": [
        "##Principais informações obtidas dos dados"
      ]
    },
    {
      "cell_type": "markdown",
      "source": [
        "- Para todos os países, os maiores lucros ficaram concentrados nos anos de 2011 e 2012 sem precedentes e, após esse período, o lucro para todos mantiveram-se em torno do valor de média;\n",
        "- A Austrália e Alemanha são os dois países onde existem as maiores diferenças de contribuição no lucro global entre os gêneros. Estes dois países, incluindo o Reino Unido, tiveram maior presença do público feminino no resultado do lucro;\n",
        "- Nos anos de 2011 e 2012 o Canadá e os Estados Unidos foram os países que detiveram os maiores lucros sendo estes atrelados aos adultos e jovens adultos, respectivamente. Observa-se por sua vez, sem considerar ao quesito de tempo, que a França e a Alemanha são os países em que o público com 64+ são os menores contribuíntes em relação ao lucro;\n",
        "- A bicicleta foi, por unanimidade, o produto que mais contribuiu com o lucro em todos os países;\n",
        "- Por unanimidade, em Agosto é o mês em que obteve-se o menor resultado de lucro entre os países. Em fevereiro, o maior lucro foi observado no Canadá e Reino Unido. E em dezembro, os países que possuíram o maior lucro foram a Austrália e França;\n",
        "- Foi visto que os atributos mais correlacionados com Lucro foram os Custo, Preço Unitário e Receita."
      ],
      "metadata": {
        "id": "6WQtEYCOze5d"
      }
    }
  ],
  "metadata": {
    "colab": {
      "collapsed_sections": [],
      "name": "Desafio 4 - Análise Exploratória.ipynb",
      "provenance": [],
      "include_colab_link": true
    },
    "kernelspec": {
      "display_name": "Python 3",
      "name": "python3"
    },
    "language_info": {
      "name": "python"
    }
  },
  "nbformat": 4,
  "nbformat_minor": 0
}